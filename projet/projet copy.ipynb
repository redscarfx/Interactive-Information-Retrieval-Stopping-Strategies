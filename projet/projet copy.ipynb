{
 "cells": [
  {
   "cell_type": "code",
   "execution_count": 1,
   "id": "6293498c",
   "metadata": {},
   "outputs": [
    {
     "name": "stderr",
     "output_type": "stream",
     "text": [
      "C:\\Users\\yacin\\AppData\\Local\\Temp\\ipykernel_2652\\23155782.py:16: DeprecationWarning: Call to deprecated function (or staticmethod) started. (use pt.java.started() instead) -- Deprecated since version 0.11.0.\n",
      "  if not pt.started():\n",
      "Java started and loaded: pyterrier.java, pyterrier.terrier.java [version=5.11 (build: craig.macdonald 2025-01-13 21:29), helper_version=0.0.8]\n",
      "C:\\Users\\yacin\\AppData\\Local\\Temp\\ipykernel_2652\\23155782.py:17: DeprecationWarning: Call to deprecated method pt.init(). Deprecated since version 0.11.0.\n",
      "The following code will have the same effect:\n",
      "pt.java.add_package('com.github.terrierteam', 'terrier-prf', '-SNAPSHOT')\n",
      "pt.java.init() # optional, forces java initialisation\n",
      "  pt.init(boot_packages=[\"com.github.terrierteam:terrier-prf:-SNAPSHOT\"])\n"
     ]
    }
   ],
   "source": [
    "import re\n",
    "import csv\n",
    "from sklearn.feature_extraction.text import TfidfVectorizer\n",
    "import pandas as pd\n",
    "import numpy as np\n",
    "from nltk.stem import WordNetLemmatizer\n",
    "from nltk.tokenize import word_tokenize\n",
    "import nltk\n",
    "import json\n",
    "from tqdm import tqdm\n",
    "import ir_datasets\n",
    "import pyterrier as pt\n",
    "import random\n",
    "import math\n",
    "from collections import Counter\n",
    "if not pt.started():\n",
    "\tpt.init(boot_packages=[\"com.github.terrierteam:terrier-prf:-SNAPSHOT\"])\n"
   ]
  },
  {
   "cell_type": "markdown",
   "id": "1423210f",
   "metadata": {},
   "source": [
    "# A- Préparation des données et leur indexation"
   ]
  },
  {
   "cell_type": "markdown",
   "id": "596ab656",
   "metadata": {},
   "source": [
    "## A-1: making my dataset smaller so the indexation doesn't take days to run"
   ]
  },
  {
   "cell_type": "code",
   "execution_count": 2,
   "id": "532b4f3b",
   "metadata": {},
   "outputs": [
    {
     "name": "stdout",
     "output_type": "stream",
     "text": [
      "Nombre de documents pertinents (qrels) : 8442\n"
     ]
    },
    {
     "name": "stderr",
     "output_type": "stream",
     "text": [
      "[INFO] Please confirm you agree to the MSMARCO data usage agreement found at <http://www.msmarco.org/dataset.aspx>\n",
      "[INFO] If you have a local copy of https://msmarco.z22.web.core.windows.net/msmarcoranking/msmarco-docs.trec.gz, you can symlink it here to avoid downloading it again: C:\\Users\\yacin\\.ir_datasets\\downloads\\d4863e4f342982b51b9a8fc668b2d0c0\n",
      "[INFO] [starting] https://msmarco.z22.web.core.windows.net/msmarcoranking/msmarco-docs.trec.gz\n",
      "[INFO] [finished] https://msmarco.z22.web.core.windows.net/msmarcoranking/msmarco-docs.trec.gz: [07:22] [2.00GB] [4.51MB/s]\n",
      "[WARNING] Download failed: Expected md5 hash to be d4863e4f342982b51b9a8fc668b2d0c0 but got 4236321b18dbafc32b2b25fc3c879daa\n"
     ]
    },
    {
     "ename": "HashVerificationError",
     "evalue": "Expected md5 hash to be d4863e4f342982b51b9a8fc668b2d0c0 but got 4236321b18dbafc32b2b25fc3c879daa",
     "output_type": "error",
     "traceback": [
      "\u001b[1;31m---------------------------------------------------------------------------\u001b[0m",
      "\u001b[1;31mHashVerificationError\u001b[0m                     Traceback (most recent call last)",
      "Cell \u001b[1;32mIn[2], line 29\u001b[0m\n\u001b[0;32m     22\u001b[0m         \u001b[38;5;28;01myield\u001b[39;00m {\u001b[38;5;124m\"\u001b[39m\u001b[38;5;124mdocno\u001b[39m\u001b[38;5;124m\"\u001b[39m: doc\u001b[38;5;241m.\u001b[39mdoc_id, \u001b[38;5;124m\"\u001b[39m\u001b[38;5;124mtext\u001b[39m\u001b[38;5;124m\"\u001b[39m: doc\u001b[38;5;241m.\u001b[39mtext}\n\u001b[0;32m     24\u001b[0m indexer \u001b[38;5;241m=\u001b[39m pt\u001b[38;5;241m.\u001b[39mIterDictIndexer(\n\u001b[0;32m     25\u001b[0m     \u001b[38;5;124m\"\u001b[39m\u001b[38;5;124m./index_msmarco\u001b[39m\u001b[38;5;124m\"\u001b[39m,\n\u001b[0;32m     26\u001b[0m     meta\u001b[38;5;241m=\u001b[39m{\u001b[38;5;124m'\u001b[39m\u001b[38;5;124mdocno\u001b[39m\u001b[38;5;124m'\u001b[39m: \u001b[38;5;241m20\u001b[39m, \u001b[38;5;124m'\u001b[39m\u001b[38;5;124mtext\u001b[39m\u001b[38;5;124m'\u001b[39m: \u001b[38;5;241m4096\u001b[39m},\n\u001b[0;32m     27\u001b[0m     fields\u001b[38;5;241m=\u001b[39m\u001b[38;5;28;01mTrue\u001b[39;00m\n\u001b[0;32m     28\u001b[0m )\n\u001b[1;32m---> 29\u001b[0m indexref \u001b[38;5;241m=\u001b[39m indexer\u001b[38;5;241m.\u001b[39mindex(iter_docs_filtered(alpha\u001b[38;5;241m=\u001b[39m\u001b[38;5;241m1.0\u001b[39m))\n\u001b[0;32m     30\u001b[0m \u001b[38;5;28mprint\u001b[39m(\u001b[38;5;124mf\u001b[39m\u001b[38;5;124m\"\u001b[39m\u001b[38;5;124mIndexation terminée : \u001b[39m\u001b[38;5;132;01m{\u001b[39;00mindexref\u001b[38;5;132;01m}\u001b[39;00m\u001b[38;5;124m\"\u001b[39m)\n",
      "File \u001b[1;32mc:\\Users\\yacin\\anaconda3\\Lib\\site-packages\\pyterrier\\utils.py:208\u001b[0m, in \u001b[0;36mpre_invocation_decorator.<locals>._decorator_wrapper.<locals>._wrapper\u001b[1;34m(*args, **kwargs)\u001b[0m\n\u001b[0;32m    205\u001b[0m \u001b[38;5;129m@wraps\u001b[39m(fn)\n\u001b[0;32m    206\u001b[0m \u001b[38;5;28;01mdef\u001b[39;00m \u001b[38;5;21m_wrapper\u001b[39m(\u001b[38;5;241m*\u001b[39margs, \u001b[38;5;241m*\u001b[39m\u001b[38;5;241m*\u001b[39mkwargs):\n\u001b[0;32m    207\u001b[0m     decorator(fn)\n\u001b[1;32m--> 208\u001b[0m     \u001b[38;5;28;01mreturn\u001b[39;00m fn(\u001b[38;5;241m*\u001b[39margs, \u001b[38;5;241m*\u001b[39m\u001b[38;5;241m*\u001b[39mkwargs)\n",
      "File \u001b[1;32mc:\\Users\\yacin\\anaconda3\\Lib\\site-packages\\pyterrier\\terrier\\index.py:681\u001b[0m, in \u001b[0;36m_IterDictIndexer_nofifo.index\u001b[1;34m(self, it, fields)\u001b[0m\n\u001b[0;32m    676\u001b[0m     iter_docs \u001b[38;5;241m=\u001b[39m \u001b[38;5;28;01mNone\u001b[39;00m\n\u001b[0;32m    678\u001b[0m \u001b[38;5;28;01melse\u001b[39;00m:\n\u001b[0;32m    679\u001b[0m \n\u001b[0;32m    680\u001b[0m     \u001b[38;5;66;03m# we need to prevent collectionIterator from being GCd\u001b[39;00m\n\u001b[1;32m--> 681\u001b[0m     collectionIterator \u001b[38;5;241m=\u001b[39m FlatJSONDocumentIterator(\u001b[38;5;28mself\u001b[39m\u001b[38;5;241m.\u001b[39m_filter_iterable(it))\n\u001b[0;32m    682\u001b[0m     javaDocCollection \u001b[38;5;241m=\u001b[39m pt\u001b[38;5;241m.\u001b[39mterrier\u001b[38;5;241m.\u001b[39mJ\u001b[38;5;241m.\u001b[39mCollectionFromDocumentIterator(collectionIterator)\n\u001b[0;32m    683\u001b[0m     indexer\u001b[38;5;241m.\u001b[39mindex(javaDocCollection)\n",
      "File \u001b[1;32mc:\\Users\\yacin\\anaconda3\\Lib\\site-packages\\pyterrier\\terrier\\index.py:609\u001b[0m, in \u001b[0;36m_BaseIterDictIndexer._filter_iterable\u001b[1;34m(self, it)\u001b[0m\n\u001b[0;32m    603\u001b[0m \u001b[38;5;28;01mdef\u001b[39;00m \u001b[38;5;21m_filter_iterable\u001b[39m(\u001b[38;5;28mself\u001b[39m, it):\n\u001b[0;32m    604\u001b[0m     \u001b[38;5;66;03m# Only include necessary columns: those that are indexed, metadata columns, and docno\u001b[39;00m\n\u001b[0;32m    605\u001b[0m     \u001b[38;5;66;03m# Also, check that the provided iterator is a suitable format\u001b[39;00m\n\u001b[0;32m    607\u001b[0m     all_cols \u001b[38;5;241m=\u001b[39m {\u001b[38;5;124m'\u001b[39m\u001b[38;5;124mdocno\u001b[39m\u001b[38;5;124m'\u001b[39m} \u001b[38;5;241m|\u001b[39m \u001b[38;5;28mset\u001b[39m(\u001b[38;5;28mself\u001b[39m\u001b[38;5;241m.\u001b[39mtext_attrs) \u001b[38;5;241m|\u001b[39m \u001b[38;5;28mset\u001b[39m(\u001b[38;5;28mself\u001b[39m\u001b[38;5;241m.\u001b[39mmeta\u001b[38;5;241m.\u001b[39mkeys())\n\u001b[1;32m--> 609\u001b[0m     first_docs, it \u001b[38;5;241m=\u001b[39m more_itertools\u001b[38;5;241m.\u001b[39mspy(it) \u001b[38;5;66;03m# peek at the first document and validate it\u001b[39;00m\n\u001b[0;32m    610\u001b[0m     \u001b[38;5;28;01mif\u001b[39;00m \u001b[38;5;28mlen\u001b[39m(first_docs) \u001b[38;5;241m>\u001b[39m \u001b[38;5;241m0\u001b[39m: \u001b[38;5;66;03m# handle empty input\u001b[39;00m\n\u001b[0;32m    611\u001b[0m         \u001b[38;5;28mself\u001b[39m\u001b[38;5;241m.\u001b[39m_validate_doc_dict(first_docs[\u001b[38;5;241m0\u001b[39m])\n",
      "File \u001b[1;32mc:\\Users\\yacin\\anaconda3\\Lib\\site-packages\\more_itertools\\more.py:1077\u001b[0m, in \u001b[0;36mspy\u001b[1;34m(iterable, n)\u001b[0m\n\u001b[0;32m   1040\u001b[0m \u001b[38;5;250m\u001b[39m\u001b[38;5;124;03m\"\"\"Return a 2-tuple with a list containing the first *n* elements of\u001b[39;00m\n\u001b[0;32m   1041\u001b[0m \u001b[38;5;124;03m*iterable*, and an iterator with the same items as *iterable*.\u001b[39;00m\n\u001b[0;32m   1042\u001b[0m \u001b[38;5;124;03mThis allows you to \"look ahead\" at the items in the iterable without\u001b[39;00m\n\u001b[1;32m   (...)\u001b[0m\n\u001b[0;32m   1074\u001b[0m \n\u001b[0;32m   1075\u001b[0m \u001b[38;5;124;03m\"\"\"\u001b[39;00m\n\u001b[0;32m   1076\u001b[0m it \u001b[38;5;241m=\u001b[39m \u001b[38;5;28miter\u001b[39m(iterable)\n\u001b[1;32m-> 1077\u001b[0m head \u001b[38;5;241m=\u001b[39m take(n, it)\n\u001b[0;32m   1079\u001b[0m \u001b[38;5;28;01mreturn\u001b[39;00m head\u001b[38;5;241m.\u001b[39mcopy(), chain(head, it)\n",
      "File \u001b[1;32mc:\\Users\\yacin\\anaconda3\\Lib\\site-packages\\more_itertools\\recipes.py:76\u001b[0m, in \u001b[0;36mtake\u001b[1;34m(n, iterable)\u001b[0m\n\u001b[0;32m     63\u001b[0m \u001b[38;5;28;01mdef\u001b[39;00m \u001b[38;5;21mtake\u001b[39m(n, iterable):\n\u001b[0;32m     64\u001b[0m \u001b[38;5;250m    \u001b[39m\u001b[38;5;124;03m\"\"\"Return first *n* items of the iterable as a list.\u001b[39;00m\n\u001b[0;32m     65\u001b[0m \n\u001b[0;32m     66\u001b[0m \u001b[38;5;124;03m        >>> take(3, range(10))\u001b[39;00m\n\u001b[1;32m   (...)\u001b[0m\n\u001b[0;32m     74\u001b[0m \n\u001b[0;32m     75\u001b[0m \u001b[38;5;124;03m    \"\"\"\u001b[39;00m\n\u001b[1;32m---> 76\u001b[0m     \u001b[38;5;28;01mreturn\u001b[39;00m \u001b[38;5;28mlist\u001b[39m(islice(iterable, n))\n",
      "Cell \u001b[1;32mIn[2], line 21\u001b[0m, in \u001b[0;36miter_docs_filtered\u001b[1;34m(alpha)\u001b[0m\n\u001b[0;32m     20\u001b[0m \u001b[38;5;28;01mdef\u001b[39;00m \u001b[38;5;21miter_docs_filtered\u001b[39m(alpha\u001b[38;5;241m=\u001b[39m\u001b[38;5;241m1.0\u001b[39m):\n\u001b[1;32m---> 21\u001b[0m     \u001b[38;5;28;01mfor\u001b[39;00m doc \u001b[38;5;129;01min\u001b[39;00m dataset\u001b[38;5;241m.\u001b[39mdocs_iter():\n\u001b[0;32m     22\u001b[0m         \u001b[38;5;28;01myield\u001b[39;00m {\u001b[38;5;124m\"\u001b[39m\u001b[38;5;124mdocno\u001b[39m\u001b[38;5;124m\"\u001b[39m: doc\u001b[38;5;241m.\u001b[39mdoc_id, \u001b[38;5;124m\"\u001b[39m\u001b[38;5;124mtext\u001b[39m\u001b[38;5;124m\"\u001b[39m: doc\u001b[38;5;241m.\u001b[39mtext}\n",
      "File \u001b[1;32mc:\\Users\\yacin\\anaconda3\\Lib\\site-packages\\ir_datasets\\util\\__init__.py:147\u001b[0m, in \u001b[0;36mDocstoreSplitter.__next__\u001b[1;34m(self)\u001b[0m\n\u001b[0;32m    146\u001b[0m \u001b[38;5;28;01mdef\u001b[39;00m \u001b[38;5;21m__next__\u001b[39m(\u001b[38;5;28mself\u001b[39m):\n\u001b[1;32m--> 147\u001b[0m     \u001b[38;5;28;01mreturn\u001b[39;00m \u001b[38;5;28mnext\u001b[39m(\u001b[38;5;28mself\u001b[39m\u001b[38;5;241m.\u001b[39mit)\n",
      "File \u001b[1;32mc:\\Users\\yacin\\anaconda3\\Lib\\site-packages\\ir_datasets\\datasets\\msmarco_document.py:49\u001b[0m, in \u001b[0;36mMsMarcoTrecDocs.docs_iter\u001b[1;34m(self)\u001b[0m\n\u001b[0;32m     47\u001b[0m \u001b[38;5;129m@ir_datasets\u001b[39m\u001b[38;5;241m.\u001b[39mutil\u001b[38;5;241m.\u001b[39muse_docstore\n\u001b[0;32m     48\u001b[0m \u001b[38;5;28;01mdef\u001b[39;00m \u001b[38;5;21mdocs_iter\u001b[39m(\u001b[38;5;28mself\u001b[39m):\n\u001b[1;32m---> 49\u001b[0m     \u001b[38;5;28;01mfor\u001b[39;00m doc \u001b[38;5;129;01min\u001b[39;00m \u001b[38;5;28msuper\u001b[39m()\u001b[38;5;241m.\u001b[39mdocs_iter():\n\u001b[0;32m     50\u001b[0m         \u001b[38;5;28;01mif\u001b[39;00m \u001b[38;5;28misinstance\u001b[39m(doc, MsMarcoDocument):\n\u001b[0;32m     51\u001b[0m             \u001b[38;5;66;03m# It's coming from the docstore\u001b[39;00m\n\u001b[0;32m     52\u001b[0m             \u001b[38;5;28;01myield\u001b[39;00m doc\n",
      "File \u001b[1;32mc:\\Users\\yacin\\anaconda3\\Lib\\site-packages\\ir_datasets\\util\\__init__.py:147\u001b[0m, in \u001b[0;36mDocstoreSplitter.__next__\u001b[1;34m(self)\u001b[0m\n\u001b[0;32m    146\u001b[0m \u001b[38;5;28;01mdef\u001b[39;00m \u001b[38;5;21m__next__\u001b[39m(\u001b[38;5;28mself\u001b[39m):\n\u001b[1;32m--> 147\u001b[0m     \u001b[38;5;28;01mreturn\u001b[39;00m \u001b[38;5;28mnext\u001b[39m(\u001b[38;5;28mself\u001b[39m\u001b[38;5;241m.\u001b[39mit)\n",
      "File \u001b[1;32mc:\\Users\\yacin\\anaconda3\\Lib\\site-packages\\ir_datasets\\formats\\trec.py:118\u001b[0m, in \u001b[0;36mTrecDocs.docs_iter\u001b[1;34m(self)\u001b[0m\n\u001b[0;32m    116\u001b[0m \u001b[38;5;129m@ir_datasets\u001b[39m\u001b[38;5;241m.\u001b[39mutil\u001b[38;5;241m.\u001b[39muse_docstore\n\u001b[0;32m    117\u001b[0m \u001b[38;5;28;01mdef\u001b[39;00m \u001b[38;5;21mdocs_iter\u001b[39m(\u001b[38;5;28mself\u001b[39m):\n\u001b[1;32m--> 118\u001b[0m     \u001b[38;5;28;01mif\u001b[39;00m Path(\u001b[38;5;28mself\u001b[39m\u001b[38;5;241m.\u001b[39m_docs_dlc\u001b[38;5;241m.\u001b[39mpath())\u001b[38;5;241m.\u001b[39mis_dir():\n\u001b[0;32m    119\u001b[0m         \u001b[38;5;28;01mif\u001b[39;00m \u001b[38;5;28mself\u001b[39m\u001b[38;5;241m.\u001b[39m_path_globs:\n\u001b[0;32m    120\u001b[0m             file_count \u001b[38;5;241m=\u001b[39m \u001b[38;5;241m0\u001b[39m\n",
      "File \u001b[1;32mc:\\Users\\yacin\\anaconda3\\Lib\\site-packages\\ir_datasets\\util\\download.py:262\u001b[0m, in \u001b[0;36mDownload.path\u001b[1;34m(self, force)\u001b[0m\n\u001b[0;32m    260\u001b[0m         \u001b[38;5;28;01mraise\u001b[39;00m errors[\u001b[38;5;241m0\u001b[39m][\u001b[38;5;241m1\u001b[39m]\n\u001b[0;32m    261\u001b[0m     \u001b[38;5;28;01mif\u001b[39;00m \u001b[38;5;28mlen\u001b[39m(\u001b[38;5;28mself\u001b[39m\u001b[38;5;241m.\u001b[39mmirrors) \u001b[38;5;241m==\u001b[39m \u001b[38;5;241m2\u001b[39m \u001b[38;5;129;01mand\u001b[39;00m \u001b[38;5;28misinstance\u001b[39m(\u001b[38;5;28mself\u001b[39m\u001b[38;5;241m.\u001b[39mmirrors[\u001b[38;5;241m0\u001b[39m], LocalDownload):\n\u001b[1;32m--> 262\u001b[0m         \u001b[38;5;28;01mraise\u001b[39;00m errors[\u001b[38;5;241m1\u001b[39m][\u001b[38;5;241m1\u001b[39m]\n\u001b[0;32m    263\u001b[0m     \u001b[38;5;28;01mraise\u001b[39;00m \u001b[38;5;167;01mRuntimeError\u001b[39;00m(\u001b[38;5;124m'\u001b[39m\u001b[38;5;124mAll download sources failed\u001b[39m\u001b[38;5;124m'\u001b[39m, errors)\n\u001b[0;32m    264\u001b[0m \u001b[38;5;28mself\u001b[39m\u001b[38;5;241m.\u001b[39m_path \u001b[38;5;241m=\u001b[39m download_path\n",
      "File \u001b[1;32mc:\\Users\\yacin\\anaconda3\\Lib\\site-packages\\ir_datasets\\util\\download.py:252\u001b[0m, in \u001b[0;36mDownload.path\u001b[1;34m(self, force)\u001b[0m\n\u001b[0;32m    250\u001b[0m         \u001b[38;5;28;01mwith\u001b[39;00m mirror\u001b[38;5;241m.\u001b[39mstream() \u001b[38;5;28;01mas\u001b[39;00m stream:\n\u001b[0;32m    251\u001b[0m             stream \u001b[38;5;241m=\u001b[39m util\u001b[38;5;241m.\u001b[39mHashStream(stream, \u001b[38;5;28mself\u001b[39m\u001b[38;5;241m.\u001b[39mexpected_md5, algo\u001b[38;5;241m=\u001b[39m\u001b[38;5;124m'\u001b[39m\u001b[38;5;124mmd5\u001b[39m\u001b[38;5;124m'\u001b[39m)\n\u001b[1;32m--> 252\u001b[0m             shutil\u001b[38;5;241m.\u001b[39mcopyfileobj(stream, f)\n\u001b[0;32m    253\u001b[0m             \u001b[38;5;28;01mbreak\u001b[39;00m\n\u001b[0;32m    254\u001b[0m \u001b[38;5;28;01mexcept\u001b[39;00m \u001b[38;5;167;01mException\u001b[39;00m \u001b[38;5;28;01mas\u001b[39;00m e:\n",
      "File \u001b[1;32mc:\\Users\\yacin\\anaconda3\\Lib\\shutil.py:197\u001b[0m, in \u001b[0;36mcopyfileobj\u001b[1;34m(fsrc, fdst, length)\u001b[0m\n\u001b[0;32m    195\u001b[0m fdst_write \u001b[38;5;241m=\u001b[39m fdst\u001b[38;5;241m.\u001b[39mwrite\n\u001b[0;32m    196\u001b[0m \u001b[38;5;28;01mwhile\u001b[39;00m \u001b[38;5;28;01mTrue\u001b[39;00m:\n\u001b[1;32m--> 197\u001b[0m     buf \u001b[38;5;241m=\u001b[39m fsrc_read(length)\n\u001b[0;32m    198\u001b[0m     \u001b[38;5;28;01mif\u001b[39;00m \u001b[38;5;129;01mnot\u001b[39;00m buf:\n\u001b[0;32m    199\u001b[0m         \u001b[38;5;28;01mbreak\u001b[39;00m\n",
      "File \u001b[1;32mc:\\Users\\yacin\\anaconda3\\Lib\\site-packages\\ir_datasets\\util\\hash.py:51\u001b[0m, in \u001b[0;36mHashStream.readinto\u001b[1;34m(self, b)\u001b[0m\n\u001b[0;32m     49\u001b[0m \u001b[38;5;28mself\u001b[39m\u001b[38;5;241m.\u001b[39m_verifier\u001b[38;5;241m.\u001b[39mupdate(b[:count])\n\u001b[0;32m     50\u001b[0m \u001b[38;5;28;01mif\u001b[39;00m count \u001b[38;5;241m==\u001b[39m \u001b[38;5;241m0\u001b[39m:\n\u001b[1;32m---> 51\u001b[0m     \u001b[38;5;28mself\u001b[39m\u001b[38;5;241m.\u001b[39m_verifier\u001b[38;5;241m.\u001b[39m\u001b[38;5;21m__exit__\u001b[39m(\u001b[38;5;28;01mNone\u001b[39;00m, \u001b[38;5;28;01mNone\u001b[39;00m, \u001b[38;5;28;01mNone\u001b[39;00m)\n\u001b[0;32m     52\u001b[0m \u001b[38;5;28;01mreturn\u001b[39;00m count\n",
      "File \u001b[1;32mc:\\Users\\yacin\\anaconda3\\Lib\\site-packages\\ir_datasets\\util\\hash.py:32\u001b[0m, in \u001b[0;36mHashVerifier.__exit__\u001b[1;34m(self, exc_type, exc_val, exc_tb)\u001b[0m\n\u001b[0;32m     30\u001b[0m \u001b[38;5;28;01mif\u001b[39;00m \u001b[38;5;28mself\u001b[39m\u001b[38;5;241m.\u001b[39mexpected \u001b[38;5;129;01mis\u001b[39;00m \u001b[38;5;129;01mnot\u001b[39;00m \u001b[38;5;28;01mNone\u001b[39;00m:\n\u001b[0;32m     31\u001b[0m     \u001b[38;5;28;01mif\u001b[39;00m \u001b[38;5;28mself\u001b[39m\u001b[38;5;241m.\u001b[39mexpected\u001b[38;5;241m.\u001b[39mlower() \u001b[38;5;241m!=\u001b[39m h:\n\u001b[1;32m---> 32\u001b[0m         \u001b[38;5;28;01mraise\u001b[39;00m HashVerificationError(\u001b[38;5;124mf\u001b[39m\u001b[38;5;124m\"\u001b[39m\u001b[38;5;124mExpected \u001b[39m\u001b[38;5;132;01m{\u001b[39;00m\u001b[38;5;28mself\u001b[39m\u001b[38;5;241m.\u001b[39malgo\u001b[38;5;132;01m}\u001b[39;00m\u001b[38;5;124m hash to be \u001b[39m\u001b[38;5;132;01m{\u001b[39;00m\u001b[38;5;28mself\u001b[39m\u001b[38;5;241m.\u001b[39mexpected\u001b[38;5;132;01m}\u001b[39;00m\u001b[38;5;124m but got \u001b[39m\u001b[38;5;132;01m{\u001b[39;00mh\u001b[38;5;132;01m}\u001b[39;00m\u001b[38;5;124m\"\u001b[39m)\n\u001b[0;32m     33\u001b[0m \u001b[38;5;28;01melse\u001b[39;00m:\n\u001b[0;32m     34\u001b[0m     _logger\u001b[38;5;241m.\u001b[39mwarn(\u001b[38;5;124mf\u001b[39m\u001b[38;5;124m'\u001b[39m\u001b[38;5;124mconsider adding expected_\u001b[39m\u001b[38;5;132;01m{\u001b[39;00m\u001b[38;5;28mself\u001b[39m\u001b[38;5;241m.\u001b[39malgo\u001b[38;5;132;01m}\u001b[39;00m\u001b[38;5;124m=\u001b[39m\u001b[38;5;132;01m{\u001b[39;00m\u001b[38;5;28mrepr\u001b[39m(h)\u001b[38;5;132;01m}\u001b[39;00m\u001b[38;5;124m to ensure data integrity\u001b[39m\u001b[38;5;124m'\u001b[39m)\n",
      "\u001b[1;31mHashVerificationError\u001b[0m: Expected md5 hash to be d4863e4f342982b51b9a8fc668b2d0c0 but got 4236321b18dbafc32b2b25fc3c879daa"
     ]
    }
   ],
   "source": [
    "import os\n",
    "import shutil\n",
    "import ir_datasets\n",
    "import pyterrier as pt\n",
    "\n",
    "# 1. Supprimer le cache local du dataset incriminé\n",
    "#   - sous Linux/macOS : ~/.cache/ir_datasets\n",
    "#   - sous Windows : C:\\\\Users\\\\<votre‑nom>\\\\.cache\\\\ir_datasets\n",
    "cache_subpath = os.path.expanduser(\"~/.cache/ir_datasets/msmarco_document/trec-dl-hard\")\n",
    "shutil.rmtree(cache_subpath, ignore_errors=True)\n",
    "\n",
    "# 2. Recharger le dataset (ir_datasets téléchargera alors les fichiers manquants)\n",
    "dataset = ir_datasets.load(\"msmarco-document/trec-dl-hard\")\n",
    "\n",
    "# Vérification sommaire\n",
    "qrels = set(qrel.doc_id for qrel in dataset.qrels_iter())\n",
    "print(f\"Nombre de documents pertinents (qrels) : {len(qrels)}\")\n",
    "\n",
    "# 3. (Re)lancer votre indexation\n",
    "def iter_docs_filtered(alpha=1.0):\n",
    "    for doc in dataset.docs_iter():\n",
    "        yield {\"docno\": doc.doc_id, \"text\": doc.text}\n",
    "\n",
    "indexer = pt.IterDictIndexer(\n",
    "    \"./index_msmarco\",\n",
    "    meta={'docno': 20, 'text': 4096},\n",
    "    fields=True\n",
    ")\n",
    "indexref = indexer.index(iter_docs_filtered(alpha=1.0))\n",
    "print(f\"Indexation terminée : {indexref}\")\n"
   ]
  },
  {
   "cell_type": "code",
   "execution_count": 6,
   "id": "454f14d5",
   "metadata": {},
   "outputs": [],
   "source": [
    "indexer = pt.IterDictIndexer(\"./index_msmarco\", meta={'docno': 20, 'text': 4096}, fields=True)"
   ]
  },
  {
   "cell_type": "code",
   "execution_count": 7,
   "id": "e209120b",
   "metadata": {},
   "outputs": [
    {
     "name": "stderr",
     "output_type": "stream",
     "text": [
      "[INFO] If you have a local copy of https://msmarco.z22.web.core.windows.net/msmarcoranking/msmarco-docs.trec.gz, you can symlink it here to avoid downloading it again: C:\\Users\\yacin\\.ir_datasets\\downloads\\d4863e4f342982b51b9a8fc668b2d0c0\n",
      "[INFO] [starting] https://msmarco.z22.web.core.windows.net/msmarcoranking/msmarco-docs.trec.gz\n",
      "[INFO] [finished] https://msmarco.z22.web.core.windows.net/msmarcoranking/msmarco-docs.trec.gz: [11:30] [2.38GB] [3.46MB/s]\n",
      "[WARNING] Download failed: Expected md5 hash to be d4863e4f342982b51b9a8fc668b2d0c0 but got e316b2f31dc32d2f85ea707fafffac0d\n"
     ]
    },
    {
     "ename": "HashVerificationError",
     "evalue": "Expected md5 hash to be d4863e4f342982b51b9a8fc668b2d0c0 but got e316b2f31dc32d2f85ea707fafffac0d",
     "output_type": "error",
     "traceback": [
      "\u001b[1;31m---------------------------------------------------------------------------\u001b[0m",
      "\u001b[1;31mHashVerificationError\u001b[0m                     Traceback (most recent call last)",
      "Cell \u001b[1;32mIn[7], line 4\u001b[0m\n\u001b[0;32m      1\u001b[0m \u001b[38;5;66;03m# ça m'a pris 43min pour indexer 129k docs sur 8.4M\u001b[39;00m\n\u001b[0;32m      2\u001b[0m \u001b[38;5;66;03m#indexref = indexer.index(iter_docs_filtered())\u001b[39;00m\n\u001b[1;32m----> 4\u001b[0m indexref \u001b[38;5;241m=\u001b[39m indexer\u001b[38;5;241m.\u001b[39mindex(iter_docs_filtered(alpha\u001b[38;5;241m=\u001b[39m\u001b[38;5;241m1\u001b[39m))\n\u001b[0;32m      5\u001b[0m \u001b[38;5;28mprint\u001b[39m(\u001b[38;5;124mf\u001b[39m\u001b[38;5;124m\"\u001b[39m\u001b[38;5;124mIndexation terminée : \u001b[39m\u001b[38;5;132;01m{\u001b[39;00mindexref\u001b[38;5;132;01m}\u001b[39;00m\u001b[38;5;124m\"\u001b[39m)\n",
      "File \u001b[1;32mc:\\Users\\yacin\\anaconda3\\Lib\\site-packages\\pyterrier\\utils.py:208\u001b[0m, in \u001b[0;36mpre_invocation_decorator.<locals>._decorator_wrapper.<locals>._wrapper\u001b[1;34m(*args, **kwargs)\u001b[0m\n\u001b[0;32m    205\u001b[0m \u001b[38;5;129m@wraps\u001b[39m(fn)\n\u001b[0;32m    206\u001b[0m \u001b[38;5;28;01mdef\u001b[39;00m \u001b[38;5;21m_wrapper\u001b[39m(\u001b[38;5;241m*\u001b[39margs, \u001b[38;5;241m*\u001b[39m\u001b[38;5;241m*\u001b[39mkwargs):\n\u001b[0;32m    207\u001b[0m     decorator(fn)\n\u001b[1;32m--> 208\u001b[0m     \u001b[38;5;28;01mreturn\u001b[39;00m fn(\u001b[38;5;241m*\u001b[39margs, \u001b[38;5;241m*\u001b[39m\u001b[38;5;241m*\u001b[39mkwargs)\n",
      "File \u001b[1;32mc:\\Users\\yacin\\anaconda3\\Lib\\site-packages\\pyterrier\\terrier\\index.py:681\u001b[0m, in \u001b[0;36m_IterDictIndexer_nofifo.index\u001b[1;34m(self, it, fields)\u001b[0m\n\u001b[0;32m    676\u001b[0m     iter_docs \u001b[38;5;241m=\u001b[39m \u001b[38;5;28;01mNone\u001b[39;00m\n\u001b[0;32m    678\u001b[0m \u001b[38;5;28;01melse\u001b[39;00m:\n\u001b[0;32m    679\u001b[0m \n\u001b[0;32m    680\u001b[0m     \u001b[38;5;66;03m# we need to prevent collectionIterator from being GCd\u001b[39;00m\n\u001b[1;32m--> 681\u001b[0m     collectionIterator \u001b[38;5;241m=\u001b[39m FlatJSONDocumentIterator(\u001b[38;5;28mself\u001b[39m\u001b[38;5;241m.\u001b[39m_filter_iterable(it))\n\u001b[0;32m    682\u001b[0m     javaDocCollection \u001b[38;5;241m=\u001b[39m pt\u001b[38;5;241m.\u001b[39mterrier\u001b[38;5;241m.\u001b[39mJ\u001b[38;5;241m.\u001b[39mCollectionFromDocumentIterator(collectionIterator)\n\u001b[0;32m    683\u001b[0m     indexer\u001b[38;5;241m.\u001b[39mindex(javaDocCollection)\n",
      "File \u001b[1;32mc:\\Users\\yacin\\anaconda3\\Lib\\site-packages\\pyterrier\\terrier\\index.py:609\u001b[0m, in \u001b[0;36m_BaseIterDictIndexer._filter_iterable\u001b[1;34m(self, it)\u001b[0m\n\u001b[0;32m    603\u001b[0m \u001b[38;5;28;01mdef\u001b[39;00m \u001b[38;5;21m_filter_iterable\u001b[39m(\u001b[38;5;28mself\u001b[39m, it):\n\u001b[0;32m    604\u001b[0m     \u001b[38;5;66;03m# Only include necessary columns: those that are indexed, metadata columns, and docno\u001b[39;00m\n\u001b[0;32m    605\u001b[0m     \u001b[38;5;66;03m# Also, check that the provided iterator is a suitable format\u001b[39;00m\n\u001b[0;32m    607\u001b[0m     all_cols \u001b[38;5;241m=\u001b[39m {\u001b[38;5;124m'\u001b[39m\u001b[38;5;124mdocno\u001b[39m\u001b[38;5;124m'\u001b[39m} \u001b[38;5;241m|\u001b[39m \u001b[38;5;28mset\u001b[39m(\u001b[38;5;28mself\u001b[39m\u001b[38;5;241m.\u001b[39mtext_attrs) \u001b[38;5;241m|\u001b[39m \u001b[38;5;28mset\u001b[39m(\u001b[38;5;28mself\u001b[39m\u001b[38;5;241m.\u001b[39mmeta\u001b[38;5;241m.\u001b[39mkeys())\n\u001b[1;32m--> 609\u001b[0m     first_docs, it \u001b[38;5;241m=\u001b[39m more_itertools\u001b[38;5;241m.\u001b[39mspy(it) \u001b[38;5;66;03m# peek at the first document and validate it\u001b[39;00m\n\u001b[0;32m    610\u001b[0m     \u001b[38;5;28;01mif\u001b[39;00m \u001b[38;5;28mlen\u001b[39m(first_docs) \u001b[38;5;241m>\u001b[39m \u001b[38;5;241m0\u001b[39m: \u001b[38;5;66;03m# handle empty input\u001b[39;00m\n\u001b[0;32m    611\u001b[0m         \u001b[38;5;28mself\u001b[39m\u001b[38;5;241m.\u001b[39m_validate_doc_dict(first_docs[\u001b[38;5;241m0\u001b[39m])\n",
      "File \u001b[1;32mc:\\Users\\yacin\\anaconda3\\Lib\\site-packages\\more_itertools\\more.py:1077\u001b[0m, in \u001b[0;36mspy\u001b[1;34m(iterable, n)\u001b[0m\n\u001b[0;32m   1040\u001b[0m \u001b[38;5;250m\u001b[39m\u001b[38;5;124;03m\"\"\"Return a 2-tuple with a list containing the first *n* elements of\u001b[39;00m\n\u001b[0;32m   1041\u001b[0m \u001b[38;5;124;03m*iterable*, and an iterator with the same items as *iterable*.\u001b[39;00m\n\u001b[0;32m   1042\u001b[0m \u001b[38;5;124;03mThis allows you to \"look ahead\" at the items in the iterable without\u001b[39;00m\n\u001b[1;32m   (...)\u001b[0m\n\u001b[0;32m   1074\u001b[0m \n\u001b[0;32m   1075\u001b[0m \u001b[38;5;124;03m\"\"\"\u001b[39;00m\n\u001b[0;32m   1076\u001b[0m it \u001b[38;5;241m=\u001b[39m \u001b[38;5;28miter\u001b[39m(iterable)\n\u001b[1;32m-> 1077\u001b[0m head \u001b[38;5;241m=\u001b[39m take(n, it)\n\u001b[0;32m   1079\u001b[0m \u001b[38;5;28;01mreturn\u001b[39;00m head\u001b[38;5;241m.\u001b[39mcopy(), chain(head, it)\n",
      "File \u001b[1;32mc:\\Users\\yacin\\anaconda3\\Lib\\site-packages\\more_itertools\\recipes.py:76\u001b[0m, in \u001b[0;36mtake\u001b[1;34m(n, iterable)\u001b[0m\n\u001b[0;32m     63\u001b[0m \u001b[38;5;28;01mdef\u001b[39;00m \u001b[38;5;21mtake\u001b[39m(n, iterable):\n\u001b[0;32m     64\u001b[0m \u001b[38;5;250m    \u001b[39m\u001b[38;5;124;03m\"\"\"Return first *n* items of the iterable as a list.\u001b[39;00m\n\u001b[0;32m     65\u001b[0m \n\u001b[0;32m     66\u001b[0m \u001b[38;5;124;03m        >>> take(3, range(10))\u001b[39;00m\n\u001b[1;32m   (...)\u001b[0m\n\u001b[0;32m     74\u001b[0m \n\u001b[0;32m     75\u001b[0m \u001b[38;5;124;03m    \"\"\"\u001b[39;00m\n\u001b[1;32m---> 76\u001b[0m     \u001b[38;5;28;01mreturn\u001b[39;00m \u001b[38;5;28mlist\u001b[39m(islice(iterable, n))\n",
      "Cell \u001b[1;32mIn[5], line 10\u001b[0m, in \u001b[0;36miter_docs_filtered\u001b[1;34m(alpha)\u001b[0m\n\u001b[0;32m      8\u001b[0m total \u001b[38;5;241m=\u001b[39m \u001b[38;5;241m0\u001b[39m\n\u001b[0;32m      9\u001b[0m kept \u001b[38;5;241m=\u001b[39m \u001b[38;5;241m0\u001b[39m\n\u001b[1;32m---> 10\u001b[0m \u001b[38;5;28;01mfor\u001b[39;00m doc \u001b[38;5;129;01min\u001b[39;00m dataset\u001b[38;5;241m.\u001b[39mdocs_iter():\n\u001b[0;32m     11\u001b[0m \t\u001b[38;5;28;01mif\u001b[39;00m random\u001b[38;5;241m.\u001b[39mrandom() \u001b[38;5;241m<\u001b[39m\u001b[38;5;241m=\u001b[39m alpha:\n\u001b[0;32m     12\u001b[0m \t\tkept \u001b[38;5;241m+\u001b[39m\u001b[38;5;241m=\u001b[39m \u001b[38;5;241m1\u001b[39m\n",
      "File \u001b[1;32mc:\\Users\\yacin\\anaconda3\\Lib\\site-packages\\ir_datasets\\util\\__init__.py:147\u001b[0m, in \u001b[0;36mDocstoreSplitter.__next__\u001b[1;34m(self)\u001b[0m\n\u001b[0;32m    146\u001b[0m \u001b[38;5;28;01mdef\u001b[39;00m \u001b[38;5;21m__next__\u001b[39m(\u001b[38;5;28mself\u001b[39m):\n\u001b[1;32m--> 147\u001b[0m     \u001b[38;5;28;01mreturn\u001b[39;00m \u001b[38;5;28mnext\u001b[39m(\u001b[38;5;28mself\u001b[39m\u001b[38;5;241m.\u001b[39mit)\n",
      "File \u001b[1;32mc:\\Users\\yacin\\anaconda3\\Lib\\site-packages\\ir_datasets\\datasets\\msmarco_document.py:49\u001b[0m, in \u001b[0;36mMsMarcoTrecDocs.docs_iter\u001b[1;34m(self)\u001b[0m\n\u001b[0;32m     47\u001b[0m \u001b[38;5;129m@ir_datasets\u001b[39m\u001b[38;5;241m.\u001b[39mutil\u001b[38;5;241m.\u001b[39muse_docstore\n\u001b[0;32m     48\u001b[0m \u001b[38;5;28;01mdef\u001b[39;00m \u001b[38;5;21mdocs_iter\u001b[39m(\u001b[38;5;28mself\u001b[39m):\n\u001b[1;32m---> 49\u001b[0m     \u001b[38;5;28;01mfor\u001b[39;00m doc \u001b[38;5;129;01min\u001b[39;00m \u001b[38;5;28msuper\u001b[39m()\u001b[38;5;241m.\u001b[39mdocs_iter():\n\u001b[0;32m     50\u001b[0m         \u001b[38;5;28;01mif\u001b[39;00m \u001b[38;5;28misinstance\u001b[39m(doc, MsMarcoDocument):\n\u001b[0;32m     51\u001b[0m             \u001b[38;5;66;03m# It's coming from the docstore\u001b[39;00m\n\u001b[0;32m     52\u001b[0m             \u001b[38;5;28;01myield\u001b[39;00m doc\n",
      "File \u001b[1;32mc:\\Users\\yacin\\anaconda3\\Lib\\site-packages\\ir_datasets\\util\\__init__.py:147\u001b[0m, in \u001b[0;36mDocstoreSplitter.__next__\u001b[1;34m(self)\u001b[0m\n\u001b[0;32m    146\u001b[0m \u001b[38;5;28;01mdef\u001b[39;00m \u001b[38;5;21m__next__\u001b[39m(\u001b[38;5;28mself\u001b[39m):\n\u001b[1;32m--> 147\u001b[0m     \u001b[38;5;28;01mreturn\u001b[39;00m \u001b[38;5;28mnext\u001b[39m(\u001b[38;5;28mself\u001b[39m\u001b[38;5;241m.\u001b[39mit)\n",
      "File \u001b[1;32mc:\\Users\\yacin\\anaconda3\\Lib\\site-packages\\ir_datasets\\formats\\trec.py:118\u001b[0m, in \u001b[0;36mTrecDocs.docs_iter\u001b[1;34m(self)\u001b[0m\n\u001b[0;32m    116\u001b[0m \u001b[38;5;129m@ir_datasets\u001b[39m\u001b[38;5;241m.\u001b[39mutil\u001b[38;5;241m.\u001b[39muse_docstore\n\u001b[0;32m    117\u001b[0m \u001b[38;5;28;01mdef\u001b[39;00m \u001b[38;5;21mdocs_iter\u001b[39m(\u001b[38;5;28mself\u001b[39m):\n\u001b[1;32m--> 118\u001b[0m     \u001b[38;5;28;01mif\u001b[39;00m Path(\u001b[38;5;28mself\u001b[39m\u001b[38;5;241m.\u001b[39m_docs_dlc\u001b[38;5;241m.\u001b[39mpath())\u001b[38;5;241m.\u001b[39mis_dir():\n\u001b[0;32m    119\u001b[0m         \u001b[38;5;28;01mif\u001b[39;00m \u001b[38;5;28mself\u001b[39m\u001b[38;5;241m.\u001b[39m_path_globs:\n\u001b[0;32m    120\u001b[0m             file_count \u001b[38;5;241m=\u001b[39m \u001b[38;5;241m0\u001b[39m\n",
      "File \u001b[1;32mc:\\Users\\yacin\\anaconda3\\Lib\\site-packages\\ir_datasets\\util\\download.py:262\u001b[0m, in \u001b[0;36mDownload.path\u001b[1;34m(self, force)\u001b[0m\n\u001b[0;32m    260\u001b[0m         \u001b[38;5;28;01mraise\u001b[39;00m errors[\u001b[38;5;241m0\u001b[39m][\u001b[38;5;241m1\u001b[39m]\n\u001b[0;32m    261\u001b[0m     \u001b[38;5;28;01mif\u001b[39;00m \u001b[38;5;28mlen\u001b[39m(\u001b[38;5;28mself\u001b[39m\u001b[38;5;241m.\u001b[39mmirrors) \u001b[38;5;241m==\u001b[39m \u001b[38;5;241m2\u001b[39m \u001b[38;5;129;01mand\u001b[39;00m \u001b[38;5;28misinstance\u001b[39m(\u001b[38;5;28mself\u001b[39m\u001b[38;5;241m.\u001b[39mmirrors[\u001b[38;5;241m0\u001b[39m], LocalDownload):\n\u001b[1;32m--> 262\u001b[0m         \u001b[38;5;28;01mraise\u001b[39;00m errors[\u001b[38;5;241m1\u001b[39m][\u001b[38;5;241m1\u001b[39m]\n\u001b[0;32m    263\u001b[0m     \u001b[38;5;28;01mraise\u001b[39;00m \u001b[38;5;167;01mRuntimeError\u001b[39;00m(\u001b[38;5;124m'\u001b[39m\u001b[38;5;124mAll download sources failed\u001b[39m\u001b[38;5;124m'\u001b[39m, errors)\n\u001b[0;32m    264\u001b[0m \u001b[38;5;28mself\u001b[39m\u001b[38;5;241m.\u001b[39m_path \u001b[38;5;241m=\u001b[39m download_path\n",
      "File \u001b[1;32mc:\\Users\\yacin\\anaconda3\\Lib\\site-packages\\ir_datasets\\util\\download.py:252\u001b[0m, in \u001b[0;36mDownload.path\u001b[1;34m(self, force)\u001b[0m\n\u001b[0;32m    250\u001b[0m         \u001b[38;5;28;01mwith\u001b[39;00m mirror\u001b[38;5;241m.\u001b[39mstream() \u001b[38;5;28;01mas\u001b[39;00m stream:\n\u001b[0;32m    251\u001b[0m             stream \u001b[38;5;241m=\u001b[39m util\u001b[38;5;241m.\u001b[39mHashStream(stream, \u001b[38;5;28mself\u001b[39m\u001b[38;5;241m.\u001b[39mexpected_md5, algo\u001b[38;5;241m=\u001b[39m\u001b[38;5;124m'\u001b[39m\u001b[38;5;124mmd5\u001b[39m\u001b[38;5;124m'\u001b[39m)\n\u001b[1;32m--> 252\u001b[0m             shutil\u001b[38;5;241m.\u001b[39mcopyfileobj(stream, f)\n\u001b[0;32m    253\u001b[0m             \u001b[38;5;28;01mbreak\u001b[39;00m\n\u001b[0;32m    254\u001b[0m \u001b[38;5;28;01mexcept\u001b[39;00m \u001b[38;5;167;01mException\u001b[39;00m \u001b[38;5;28;01mas\u001b[39;00m e:\n",
      "File \u001b[1;32mc:\\Users\\yacin\\anaconda3\\Lib\\shutil.py:197\u001b[0m, in \u001b[0;36mcopyfileobj\u001b[1;34m(fsrc, fdst, length)\u001b[0m\n\u001b[0;32m    195\u001b[0m fdst_write \u001b[38;5;241m=\u001b[39m fdst\u001b[38;5;241m.\u001b[39mwrite\n\u001b[0;32m    196\u001b[0m \u001b[38;5;28;01mwhile\u001b[39;00m \u001b[38;5;28;01mTrue\u001b[39;00m:\n\u001b[1;32m--> 197\u001b[0m     buf \u001b[38;5;241m=\u001b[39m fsrc_read(length)\n\u001b[0;32m    198\u001b[0m     \u001b[38;5;28;01mif\u001b[39;00m \u001b[38;5;129;01mnot\u001b[39;00m buf:\n\u001b[0;32m    199\u001b[0m         \u001b[38;5;28;01mbreak\u001b[39;00m\n",
      "File \u001b[1;32mc:\\Users\\yacin\\anaconda3\\Lib\\site-packages\\ir_datasets\\util\\hash.py:51\u001b[0m, in \u001b[0;36mHashStream.readinto\u001b[1;34m(self, b)\u001b[0m\n\u001b[0;32m     49\u001b[0m \u001b[38;5;28mself\u001b[39m\u001b[38;5;241m.\u001b[39m_verifier\u001b[38;5;241m.\u001b[39mupdate(b[:count])\n\u001b[0;32m     50\u001b[0m \u001b[38;5;28;01mif\u001b[39;00m count \u001b[38;5;241m==\u001b[39m \u001b[38;5;241m0\u001b[39m:\n\u001b[1;32m---> 51\u001b[0m     \u001b[38;5;28mself\u001b[39m\u001b[38;5;241m.\u001b[39m_verifier\u001b[38;5;241m.\u001b[39m\u001b[38;5;21m__exit__\u001b[39m(\u001b[38;5;28;01mNone\u001b[39;00m, \u001b[38;5;28;01mNone\u001b[39;00m, \u001b[38;5;28;01mNone\u001b[39;00m)\n\u001b[0;32m     52\u001b[0m \u001b[38;5;28;01mreturn\u001b[39;00m count\n",
      "File \u001b[1;32mc:\\Users\\yacin\\anaconda3\\Lib\\site-packages\\ir_datasets\\util\\hash.py:32\u001b[0m, in \u001b[0;36mHashVerifier.__exit__\u001b[1;34m(self, exc_type, exc_val, exc_tb)\u001b[0m\n\u001b[0;32m     30\u001b[0m \u001b[38;5;28;01mif\u001b[39;00m \u001b[38;5;28mself\u001b[39m\u001b[38;5;241m.\u001b[39mexpected \u001b[38;5;129;01mis\u001b[39;00m \u001b[38;5;129;01mnot\u001b[39;00m \u001b[38;5;28;01mNone\u001b[39;00m:\n\u001b[0;32m     31\u001b[0m     \u001b[38;5;28;01mif\u001b[39;00m \u001b[38;5;28mself\u001b[39m\u001b[38;5;241m.\u001b[39mexpected\u001b[38;5;241m.\u001b[39mlower() \u001b[38;5;241m!=\u001b[39m h:\n\u001b[1;32m---> 32\u001b[0m         \u001b[38;5;28;01mraise\u001b[39;00m HashVerificationError(\u001b[38;5;124mf\u001b[39m\u001b[38;5;124m\"\u001b[39m\u001b[38;5;124mExpected \u001b[39m\u001b[38;5;132;01m{\u001b[39;00m\u001b[38;5;28mself\u001b[39m\u001b[38;5;241m.\u001b[39malgo\u001b[38;5;132;01m}\u001b[39;00m\u001b[38;5;124m hash to be \u001b[39m\u001b[38;5;132;01m{\u001b[39;00m\u001b[38;5;28mself\u001b[39m\u001b[38;5;241m.\u001b[39mexpected\u001b[38;5;132;01m}\u001b[39;00m\u001b[38;5;124m but got \u001b[39m\u001b[38;5;132;01m{\u001b[39;00mh\u001b[38;5;132;01m}\u001b[39;00m\u001b[38;5;124m\"\u001b[39m)\n\u001b[0;32m     33\u001b[0m \u001b[38;5;28;01melse\u001b[39;00m:\n\u001b[0;32m     34\u001b[0m     _logger\u001b[38;5;241m.\u001b[39mwarn(\u001b[38;5;124mf\u001b[39m\u001b[38;5;124m'\u001b[39m\u001b[38;5;124mconsider adding expected_\u001b[39m\u001b[38;5;132;01m{\u001b[39;00m\u001b[38;5;28mself\u001b[39m\u001b[38;5;241m.\u001b[39malgo\u001b[38;5;132;01m}\u001b[39;00m\u001b[38;5;124m=\u001b[39m\u001b[38;5;132;01m{\u001b[39;00m\u001b[38;5;28mrepr\u001b[39m(h)\u001b[38;5;132;01m}\u001b[39;00m\u001b[38;5;124m to ensure data integrity\u001b[39m\u001b[38;5;124m'\u001b[39m)\n",
      "\u001b[1;31mHashVerificationError\u001b[0m: Expected md5 hash to be d4863e4f342982b51b9a8fc668b2d0c0 but got e316b2f31dc32d2f85ea707fafffac0d"
     ]
    }
   ],
   "source": [
    "indexref = indexer.index(iter_docs_filtered(alpha=1))\n",
    "print(f\"Indexation terminée : {indexref}\")"
   ]
  },
  {
   "cell_type": "markdown",
   "id": "89fa51c3",
   "metadata": {},
   "source": [
    "## A-2: updating qrels and queries to correspond the new doc collection"
   ]
  },
  {
   "cell_type": "code",
   "execution_count": 7,
   "id": "810223fe",
   "metadata": {},
   "outputs": [
    {
     "data": {
      "text/html": [
       "<div>\n",
       "<style scoped>\n",
       "    .dataframe tbody tr th:only-of-type {\n",
       "        vertical-align: middle;\n",
       "    }\n",
       "\n",
       "    .dataframe tbody tr th {\n",
       "        vertical-align: top;\n",
       "    }\n",
       "\n",
       "    .dataframe thead th {\n",
       "        text-align: right;\n",
       "    }\n",
       "</style>\n",
       "<table border=\"1\" class=\"dataframe\">\n",
       "  <thead>\n",
       "    <tr style=\"text-align: right;\">\n",
       "      <th></th>\n",
       "      <th>qid</th>\n",
       "      <th>zero</th>\n",
       "      <th>docno</th>\n",
       "      <th>relevance</th>\n",
       "    </tr>\n",
       "  </thead>\n",
       "  <tbody>\n",
       "    <tr>\n",
       "      <th>0</th>\n",
       "      <td>263</td>\n",
       "      <td>0</td>\n",
       "      <td>1990028700044315</td>\n",
       "      <td>3</td>\n",
       "    </tr>\n",
       "    <tr>\n",
       "      <th>1</th>\n",
       "      <td>263</td>\n",
       "      <td>0</td>\n",
       "      <td>1990047100022016</td>\n",
       "      <td>3</td>\n",
       "    </tr>\n",
       "    <tr>\n",
       "      <th>2</th>\n",
       "      <td>263</td>\n",
       "      <td>0</td>\n",
       "      <td>1990061800001166</td>\n",
       "      <td>3</td>\n",
       "    </tr>\n",
       "    <tr>\n",
       "      <th>3</th>\n",
       "      <td>263</td>\n",
       "      <td>0</td>\n",
       "      <td>1990075200077466</td>\n",
       "      <td>3</td>\n",
       "    </tr>\n",
       "    <tr>\n",
       "      <th>4</th>\n",
       "      <td>263</td>\n",
       "      <td>0</td>\n",
       "      <td>1990083600000244</td>\n",
       "      <td>3</td>\n",
       "    </tr>\n",
       "  </tbody>\n",
       "</table>\n",
       "</div>"
      ],
      "text/plain": [
       "   qid zero             docno relevance\n",
       "0  263    0  1990028700044315         3\n",
       "1  263    0  1990047100022016         3\n",
       "2  263    0  1990061800001166         3\n",
       "3  263    0  1990075200077466         3\n",
       "4  263    0  1990083600000244         3"
      ]
     },
     "metadata": {},
     "output_type": "display_data"
    },
    {
     "data": {
      "text/html": [
       "<div>\n",
       "<style scoped>\n",
       "    .dataframe tbody tr th:only-of-type {\n",
       "        vertical-align: middle;\n",
       "    }\n",
       "\n",
       "    .dataframe tbody tr th {\n",
       "        vertical-align: top;\n",
       "    }\n",
       "\n",
       "    .dataframe thead th {\n",
       "        text-align: right;\n",
       "    }\n",
       "</style>\n",
       "<table border=\"1\" class=\"dataframe\">\n",
       "  <thead>\n",
       "    <tr style=\"text-align: right;\">\n",
       "      <th></th>\n",
       "      <th>qid</th>\n",
       "      <th>query</th>\n",
       "    </tr>\n",
       "  </thead>\n",
       "  <tbody>\n",
       "    <tr>\n",
       "      <th>0</th>\n",
       "      <td>263</td>\n",
       "      <td>calcio mercato</td>\n",
       "    </tr>\n",
       "    <tr>\n",
       "      <th>1</th>\n",
       "      <td>326</td>\n",
       "      <td>cotto e mangiato</td>\n",
       "    </tr>\n",
       "    <tr>\n",
       "      <th>2</th>\n",
       "      <td>381</td>\n",
       "      <td>lavatrici ad ultrasuoni</td>\n",
       "    </tr>\n",
       "    <tr>\n",
       "      <th>3</th>\n",
       "      <td>480</td>\n",
       "      <td>giallo zafferano</td>\n",
       "    </tr>\n",
       "    <tr>\n",
       "      <th>4</th>\n",
       "      <td>515</td>\n",
       "      <td>stipendi pa</td>\n",
       "    </tr>\n",
       "  </tbody>\n",
       "</table>\n",
       "</div>"
      ],
      "text/plain": [
       "   qid                    query\n",
       "0  263           calcio mercato\n",
       "1  326         cotto e mangiato\n",
       "2  381  lavatrici ad ultrasuoni\n",
       "3  480         giallo zafferano\n",
       "4  515              stipendi pa"
      ]
     },
     "metadata": {},
     "output_type": "display_data"
    }
   ],
   "source": [
    "qrels_df = pd.read_csv(\n",
    "    \"data/qrels.test\", sep=\" \",\n",
    "    names=[\"qid\",\"zero\",\"docno\",\"relevance\"], dtype=str\n",
    ")\n",
    "display(qrels_df.head())\n",
    "\n",
    "queries_df = pd.read_json(\"data/queries.test.jsonl\", lines=True)\n",
    "queries_df = queries_df.rename(columns={\"query_id\": \"qid\", \"text\": \"query\"})\n",
    "queries_df[\"qid\"] = queries_df[\"qid\"].astype(str)\n",
    "display(queries_df.head())"
   ]
  },
  {
   "cell_type": "code",
   "execution_count": 5,
   "id": "9face774",
   "metadata": {},
   "outputs": [],
   "source": [
    "# read data/kept_docnos.txt\n",
    "with open(\"data/kept_docnos.txt\", \"r\") as f:\n",
    "\tkept_docnos = set(line.strip() for line in f)"
   ]
  },
  {
   "cell_type": "code",
   "execution_count": 8,
   "id": "8991cba6",
   "metadata": {},
   "outputs": [
    {
     "name": "stdout",
     "output_type": "stream",
     "text": [
      "0 docno récupérés de l'index (reproduction du filtre)\n"
     ]
    }
   ],
   "source": [
    "print(f\"{len(kept_docnos)} docno récupérés de l'index (reproduction du filtre)\")\n",
    "#with open(\"data/kept_docnos.txt\", \"w\") as f:\n",
    "with open(\"data/kept_docnos.txt\", \"w\") as f:\n",
    "\tfor docno in kept_docnos:\n",
    "\t\tf.write(f\"{docno}\\n\")"
   ]
  },
  {
   "cell_type": "code",
   "execution_count": 8,
   "id": "666b28aa",
   "metadata": {},
   "outputs": [
    {
     "name": "stdout",
     "output_type": "stream",
     "text": [
      "594  qrel saved\n",
      "234  queries saved\n"
     ]
    }
   ],
   "source": [
    "# i'm updating qrels\n",
    "qrels_df = qrels_df[qrels_df[\"docno\"].isin(kept_docnos)]\n",
    "qrels_df[\"relevance\"] = qrels_df[\"relevance\"].astype(int)\n",
    "qrels_df.to_csv(\"data/kept_qrels.csv\", index=False)\n",
    "queries_df = queries_df[queries_df[\"qid\"].isin(qrels_df[\"qid\"])]\n",
    "queries_df.to_csv(\"data/kept_queries.csv\", index=False)\n",
    "print(f\"{len(qrels_df)}  qrel saved\")\n",
    "print(f\"{len(queries_df)}  queries saved\")"
   ]
  },
  {
   "cell_type": "code",
   "execution_count": 9,
   "id": "b3d17aa9",
   "metadata": {},
   "outputs": [
    {
     "name": "stdout",
     "output_type": "stream",
     "text": [
      "Qrels : {('594', '1990131000007252'): 3, ('680', '1990018100303455'): 3, ('680', '1990089200000157'): 1, ('1168', '1990083002539704'): 4, ('1327', '1990119500892034'): 3, ('2217', '1990022900501496'): 4, ('2217', '1990084602539290'): 4, ('3615', '1990052900015840'): 1, ('3873', '1990116900679458'): 1, ('4797', '1990078801259321'): 3, ('4797', '1990139400016103'): 1, ('4933', '1990071602540234'): 1, ('4933', '1990093402538496'): 1, ('4933', '1990097202541632'): 1, ('4933', '1990106602544080'): 1, ('4933', '1990121902541574'): 1, ('4933', '1990137800453992'): 1, ('4933', '1990155902534081'): 1, ('5061', '1990128400160708'): 1, ('5061', '1990129302540757'): 4, ('5262', '1990023000000837'): 3, ('5262', '1990040601523702'): 3, ('5262', '1990055000702701'): 1, ('5262', '1990060001646608'): 1, ('5262', '1990128700924146'): 1, ('6534', '1990022601270316'): 1, ('7525', '1990133802538127'): 3, ('7684', '1990126700174684'): 3, ('7694', '1990069802543421'): 1, ('7694', '1990091902539049'): 1, ('7694', '1990098902541296'): 1, ('7717', '1990065101258371'): 1, ('7722', '1990046902540640'): 3, ('7722', '1990064000007186'): 3, ('7722', '1990089800006156'): 3, ('7722', '1990140002539530'): 3, ('7798', '1990034700001173'): 3, ('8009', '1990067302543979'): 3, ('8179', '1990108700004313'): 3, ('8992', '1990025002540130'): 1, ('8992', '1990124602542501'): 3, ('8992', '1990125602538329'): 2, ('10348', '1990023601263299'): 3, ('10348', '1990074901086410'): 3, ('10348', '1990088002539771'): 3, ('10348', '1990131202543313'): 3, ('10353', '1990087102541738'): 3, ('10353', '1990103402541613'): 3, ('10353', '1990120102542352'): 1, ('10360', '1990045602543165'): 3, ('10360', '1990121902540872'): 3, ('10360', '1990128602539453'): 1, ('10360', '1990136502541400'): 1, ('10632', '1990085602543100'): 3, ('10906', '1990109002490790'): 1, ('11235', '1990130302537364'): 3, ('11318', '1990158202501377'): 3, ('11425', '1990021002541435'): 1, ('11425', '1990089402503392'): 3, ('11425', '1990139902540582'): 1, ('11425', '1990142700007831'): 1, ('11571', '1990072902541684'): 1, ('11571', '1990087802543805'): 1, ('12531', '1990147702540684'): 4, ('12646', '1990116902540251'): 3, ('12646', '1990118702491382'): 1, ('13571', '1990070000000153'): 3, ('14881', '1990044000048914'): 3, ('15268', '1990042302540645'): 3, ('15268', '1990077102540195'): 3, ('15268', '1990151602538997'): 3, ('16647', '1990063601430560'): 3, ('17624', '1990069000000520'): 1, ('18471', '1990034902539539'): 1, ('18471', '1990150501068621'): 1, ('18516', '1990122200076852'): 1, ('19356', '1990138402540870'): 2, ('19582', '1990011400272056'): 1, ('19582', '1990113402542873'): 1, ('19890', '1990041802541449'): 1, ('19890', '1990051302544114'): 1, ('19890', '1990086902545710'): 1, ('19890', '1990119400729010'): 2, ('20313', '1990124302542725'): 1, ('20370', '1990023002541117'): 1, ('20452', '1990031300035430'): 1, ('21217', '1990010502540485'): 1, ('21217', '1990032301438824'): 3, ('21217', '1990037402542680'): 3, ('21217', '1990037802539681'): 1, ('21217', '1990080700024938'): 1, ('21217', '1990124302541096'): 2, ('21217', '1990126000311961'): 1, ('21517', '1990028002539857'): 1, ('22230', '1990011002416810'): 3, ('22230', '1990021802540033'): 2, ('22230', '1990060802542370'): 1, ('22230', '1990073702542426'): 1, ('22230', '1990147802541842'): 1, ('22337', '1990096302541932'): 1, ('22337', '1990145600038256'): 3, ('23279', '1990095302540878'): 4, ('23279', '1990127202543292'): 1, ('23279', '1990129802543192'): 1, ('23867', '1990110002543439'): 2, ('24025', '1990015602542446'): 1, ('25903', '1990119600001361'): 2, ('26016', '1990045302539969'): 3, ('26016', '1990065000141831'): 1, ('26016', '1990073402539862'): 1, ('26016', '1990080800510170'): 3, ('26016', '1990117602542165'): 4, ('26016', '1990143000473412'): 1, ('26393', '1990104102543623'): 2, ('26600', '1990158902541122'): 1, ('26700', '1990071902544094'): 1, ('26878', '1990078502541420'): 4, ('27335', '1990040402013583'): 4, ('27335', '1990080100000624'): 1, ('27335', '1990117802541698'): 3, ('27335', '1990119302510779'): 1, ('27335', '1990144000005999'): 1, ('27456', '1990113600259034'): 1, ('27486', '1990076602543980'): 3, ('28369', '1990114402540883'): 3, ('28644', '1990037800116004'): 2, ('28644', '1990125301259368'): 4, ('28644', '1990130002541043'): 3, ('28644', '1990135700117136'): 3, ('28644', '1990154602545370'): 1, ('28829', '1990088002540353'): 1, ('28829', '1990101300557471'): 3, ('28829', '1990105300387224'): 1, ('28829', '1990134402539845'): 1, ('28998', '1990031302544948'): 1, ('29085', '1990033402538735'): 1, ('29085', '1990099000070361'): 4, ('29085', '1990121502542432'): 3, ('29085', '1990138102541231'): 3, ('29380', '1990036302541277'): 1, ('29380', '1990060502541392'): 2, ('29380', '1990070302539031'): 1, ('29380', '1990098902541280'): 1, ('29380', '1990108301446649'): 4, ('29380', '1990131302539854'): 1, ('29380', '1990135202539642'): 3, ('29510', '1990088302540419'): 3, ('29510', '1990099202540750'): 1, ('29510', '1990105301070559'): 1, ('29510', '1990130502342447'): 3, ('29510', '1990143802542325'): 1, ('29510', '1990153100282294'): 1, ('29510', '1990155502545509'): 2, ('30113', '1990053202539076'): 1, ('30113', '1990077902538413'): 3, ('30113', '1990120902538272'): 1, ('30141', '1990024300300668'): 4, ('30141', '1990025400412154'): 1, ('30141', '1990100702541401'): 2, ('30141', '1990138600090750'): 3, ('30141', '1990149200319748'): 3, ('30194', '1990113202542204'): 1, ('30194', '1990122902540134'): 4, ('30194', '1990137902538525'): 1, ('30194', '1990138202543635'): 1, ('30389', '1990038102541912'): 1, ('30389', '1990130700000660'): 3, ('30979', '1990016000288817'): 3, ('30979', '1990075700131289'): 1, ('30979', '1990128300178423'): 1, ('31065', '1990022902541856'): 1, ('31103', '1990142102334543'): 2, ('33086', '1990075902539947'): 1, ('33086', '1990141102540016'): 3, ('33358', '1990011002544116'): 1, ('33358', '1990049402541112'): 1, ('33358', '1990112800009690'): 3, ('33358', '1990122002539164'): 3, ('33358', '1990141502542807'): 2, ('34043', '1990046800201732'): 3, ('34192', '1990020901259612'): 1, ('35072', '1990083002539704'): 2, ('35809', '1990011702531900'): 2, ('35809', '1990037202289166'): 1, ('35809', '1990058201370212'): 1, ('35809', '1990062301260141'): 1, ('35809', '1990135402540086'): 3, ('36678', '1990037402542265'): 1, ('36678', '1990140502542637'): 1, ('36787', '1990061902047402'): 2, ('36787', '1990139501316960'): 1, ('36787', '1990155101255368'): 1, ('36959', '1990081702251008'): 1, ('36959', '1990094702541926'): 1, ('37248', '1990108402494878'): 1, ('37248', '1990111102489653'): 3, ('37248', '1990139302544642'): 1, ('37535', '1990030002539850'): 4, ('37572', '1990123400672059'): 3, ('37717', '1990034801260304'): 1, ('37734', '1990109702540658'): 1, ('38296', '1990072202545371'): 1, ('38296', '1990122402499973'): 1, ('38352', '1990010502541760'): 1, ('38477', '1990073500254887'): 2, ('38477', '1990089701093363'): 1, ('38477', '1990097701824841'): 4, ('38477', '1990107002194062'): 3, ('38477', '1990113201264162'): 1, ('38477', '1990119002538162'): 3, ('38477', '1990125602537896'): 1, ('38477', '1990127102543318'): 1, ('39015', '1990101802543775'): 1, ('39065', '1990034101261003'): 1, ('39065', '1990085402542778'): 4, ('39065', '1990094200108770'): 1, ('39065', '1990156400006050'): 1, ('39107', '1990056702540807'): 1, ('39107', '1990104502538981'): 4, ('39107', '1990122902536885'): 1, ('39107', '1990147402505711'): 1, ('39139', '1990151801256517'): 1, ('39180', '1990085101259698'): 2, ('39184', '1990018502543479'): 3, ('39184', '1990023202540757'): 1, ('39184', '1990075200003410'): 2, ('39184', '1990159602510253'): 1, ('39191', '1990055402539760'): 2, ('39334', '1990096100492383'): 1, ('39334', '1990101102539498'): 4, ('39609', '1990078902501666'): 1, ('39609', '1990083001282832'): 1, ('39609', '1990123602540118'): 1, ('39609', '1990134700551898'): 1, ('39735', '1990098500001075'): 2, ('40101', '1990103100008827'): 1, ('40101', '1990156501003200'): 4, ('40385', '1990134601482741'): 1, ('40715', '1990043502541928'): 1, ('40920', '1990051501412634'): 1, ('40920', '1990104202539928'): 4, ('40920', '1990125402539457'): 3, ('41177', '1990033002540599'): 1, ('41526', '1990055701260064'): 1, ('41526', '1990091002541971'): 1, ('41526', '1990125600476299'): 1, ('41526', '1990144302539762'): 3, ('41526', '1990146602540048'): 2, ('41683', '1990042700598906'): 1, ('41683', '1990044700721618'): 1, ('41683', '1990123700014872'): 1, ('41958', '1990087802621957'): 1, ('41958', '1990120702539689'): 4, ('42033', '1990156201259021'): 3, ('42033', '1990156302539902'): 1, ('42117', '1990011602538008'): 1, ('42117', '1990026602543414'): 3, ('42117', '1990144302540115'): 2, ('42117', '1990145302543381'): 1, ('42130', '1990083402542883'): 1, ('42269', '1990059802539207'): 1, ('42269', '1990080302052837'): 1, ('42269', '1990081502543829'): 1, ('42269', '1990123802539587'): 1, ('43702', '1990146502539630'): 1, ('43702', '1990149801259736'): 2, ('43717', '1990044000048914'): 1, ('43850', '1990083002539067'): 1, ('43850', '1990110502544391'): 1, ('43850', '1990137902539288'): 1, ('44560', '1990116900679458'): 1, ('45583', '1990050002538616'): 4, ('45633', '1990118502540562'): 1, ('45727', '1990018602536631'): 1, ('45727', '1990034402541423'): 3, ('45727', '1990036202536843'): 4, ('45727', '1990099402540624'): 2, ('45727', '1990111300001074'): 1, ('45727', '1990156702540607'): 1, ('45914', '1990064902542269'): 1, ('46684', '1990135502543836'): 1, ('48060', '1990055402541403'): 3, ('48060', '1990055702543181'): 2, ('48060', '1990055802497133'): 1, ('48060', '1990102302539683'): 1, ('48060', '1990136500306966'): 1, ('48465', '1990077502540030'): 1, ('48465', '1990092002541139'): 1, ('49720', '1990024202540418'): 1, ('49720', '1990111702540015'): 3, ('49720', '1990138600005847'): 1, ('49720', '1990155002541654'): 2, ('49837', '1990022602543139'): 2, ('50218', '1990025401399387'): 1, ('50218', '1990051901268235'): 2, ('50218', '1990061900585438'): 1, ('50555', '1990072402543490'): 1, ('51429', '1990060702487158'): 3, ('52126', '1990043500096301'): 1, ('52126', '1990111000000441'): 1, ('52126', '1990140300007647'): 1, ('53036', '1990049101706234'): 1, ('53036', '1990088802538932'): 1, ('53036', '1990147002538952'): 3, ('53036', '1990151502540029'): 3, ('54092', '1990153702541790'): 4, ('54595', '1990031200003644'): 3, ('54595', '1990036500000443'): 2, ('54595', '1990062300086874'): 1, ('54764', '1990068002542760'): 1, ('54764', '1990080000096079'): 1, ('54764', '1990100502539122'): 1, ('54764', '1990134202540042'): 1, ('54764', '1990140800136537'): 1, ('54773', '1990159601830676'): 1, ('54803', '1990014102539874'): 1, ('54803', '1990046000000878'): 1, ('54803', '1990059802538875'): 4, ('54803', '1990083202541656'): 1, ('54803', '1990087302542431'): 3, ('54803', '1990089602542285'): 3, ('54803', '1990123300200452'): 1, ('54815', '1990026102542385'): 1, ('54815', '1990058902542037'): 1, ('54815', '1990065802503942'): 1, ('54815', '1990114902541416'): 4, ('54815', '1990131902542726'): 1, ('55419', '1990018200336631'): 3, ('55419', '1990018402542792'): 1, ('55419', '1990036501260336'): 1, ('55419', '1990055901257418'): 1, ('55419', '1990064500011411'): 3, ('55419', '1990079100282335'): 2, ('55419', '1990110202538509'): 1, ('55419', '1990138800164016'): 4, ('55446', '1990014301262049'): 1, ('55446', '1990025201258697'): 1, ('55446', '1990047601262142'): 1, ('55557', '1990128402540620'): 1, ('55886', '1990020602497072'): 1, ('55886', '1990031802540569'): 4, ('55886', '1990036802497775'): 1, ('55886', '1990060802544056'): 1, ('55886', '1990080402542032'): 3, ('55886', '1990108002544548'): 2, ('55886', '1990124102514698'): 1, ('55886', '1990124802537980'): 1, ('55886', '1990140902539361'): 3, ('56124', '1990088400759929'): 2, ('56124', '1990138202544213'): 1, ('56596', '1990107701224682'): 3, ('56698', '1990046800797597'): 2, ('57095', '1990045900750220'): 1, ('57596', '1990066300386541'): 1, ('58037', '1990020702538471'): 1, ('58224', '1990074002542197'): 3, ('58274', '1990045300659415'): 1, ('58863', '1990113001257467'): 4, ('59218', '1990010802541664'): 4, ('59411', '1990075202540900'): 3, ('59411', '1990146602544921'): 1, ('59411', '1990157602540288'): 1, ('60906', '1990016802542306'): 2, ('60906', '1990029602543826'): 1, ('60906', '1990036701253741'): 1, ('60906', '1990086702543210'): 1, ('60906', '1990088401225301'): 1, ('60906', '1990117900405511'): 3, ('60906', '1990125802542822'): 1, ('61114', '1990024502541915'): 1, ('61114', '1990142501263435'): 2, ('61114', '1990146802542661'): 4, ('61114', '1990153202542816'): 3, ('61114', '1990158900491806'): 1, ('61157', '1990048702542656'): 1, ('61157', '1990056400055056'): 1, ('61157', '1990068502539615'): 1, ('61157', '1990069502540580'): 3, ('61157', '1990120102542894'): 2, ('61157', '1990134802540836'): 1, ('61157', '1990155002541608'): 1, ('61307', '1990122700008855'): 1, ('61307', '1990124802535205'): 1, ('61398', '1990040902511457'): 1, ('61398', '1990105501778158'): 2, ('61479', '1990118302540733'): 1, ('61689', '1990149402541356'): 3, ('62238', '1990023601570368'): 3, ('62238', '1990103100519457'): 1, ('62238', '1990129602542003'): 1, ('62238', '1990146701256473'): 1, ('62752', '1990054700529082'): 1, ('62752', '1990147001310434'): 3, ('63100', '1990125702541290'): 1, ('63485', '1990014400000326'): 3, ('63485', '1990024802537260'): 1, ('63485', '1990097502541540'): 1, ('63485', '1990099902237091'): 1, ('63485', '1990136402468990'): 4, ('63485', '1990148000000810'): 1, ('63791', '1990039202541130'): 2, ('63820', '1990097202540585'): 1, ('63820', '1990117002543286'): 3, ('63854', '1990016802542537'): 3, ('63854', '1990029602542272'): 4, ('63854', '1990046402538062'): 3, ('63854', '1990130000814915'): 2, ('63862', '1990043402542432'): 1, ('64257', '1990140300880882'): 3, ('64585', '1990011802541495'): 1, ('64585', '1990069102543010'): 1, ('64585', '1990131302539910'): 3, ('64585', '1990139402542312'): 4, ('64596', '1990099502543983'): 1, ('65027', '1990014502541348'): 2, ('65027', '1990023202539669'): 1, ('65027', '1990081502544546'): 1, ('65027', '1990095902541077'): 1, ('65027', '1990101002539062'): 1, ('65694', '1990100402541978'): 2, ('65761', '1990025700872770'): 2, ('65761', '1990051302544173'): 1, ('65761', '1990119802542344'): 1, ('66339', '1990022602542164'): 1, ('66567', '1990055401268011'): 1, ('66939', '1990012902540721'): 2, ('66939', '1990035002542664'): 1, ('66939', '1990053302543687'): 3, ('66939', '1990083502543029'): 1, ('66939', '1990090602544329'): 3, ('66939', '1990117502540751'): 1, ('66939', '1990132802541382'): 1, ('68159', '1990016502469816'): 1, ('68159', '1990041501259979'): 1, ('68159', '1990095102538982'): 1, ('68159', '1990114500060866'): 1, ('68159', '1990157400006889'): 4, ('68464', '1990089702542379'): 3, ('68464', '1990090901259674'): 1, ('68464', '1990109102541881'): 1, ('68464', '1990117002544522'): 4, ('68612', '1990104100000478'): 1, ('68847', '1990022302539437'): 1, ('68847', '1990071702542791'): 1, ('68847', '1990087602541579'): 1, ('68847', '1990134602542951'): 2, ('69183', '1990052702540870'): 1, ('69183', '1990078602542470'): 3, ('69183', '1990089002544180'): 1, ('69694', '1990069402543657'): 1, ('69694', '1990097302540968'): 3, ('69694', '1990139102541460'): 1, ('70083', '1990072902493672'): 4, ('70083', '1990121402541296'): 1, ('70083', '1990155500084718'): 3, ('70266', '1990085302546077'): 1, ('70266', '1990148102539809'): 3, ('70266', '1990152702538469'): 3, ('70516', '1990133800015104'): 1, ('70807', '1990020702538442'): 1, ('70807', '1990107302538413'): 1, ('70807', '1990141202540233'): 2, ('70807', '1990145502541326'): 1, ('70807', '1990147700555718'): 4, ('70932', '1990121902542639'): 2, ('71338', '1990099300058933'): 1, ('71338', '1990102101258913'): 3, ('72286', '1990019102541782'): 1, ('72286', '1990067502539708'): 1, ('72286', '1990102202541346'): 2, ('72286', '1990108302540538'): 1, ('72286', '1990121802538592'): 4, ('72286', '1990152502544025'): 1, ('73055', '1990033902539002'): 1, ('73055', '1990099002534747'): 3, ('73055', '1990113902540775'): 3, ('73098', '1990033702542460'): 1, ('73121', '1990132000048627'): 1, ('73360', '1990076101778327'): 1, ('73370', '1990025500347364'): 1, ('73370', '1990031001258215'): 1, ('73370', '1990049502540070'): 2, ('73370', '1990154702542206'): 1, ('73548', '1990124302537990'): 1, ('73548', '1990136902538194'): 1, ('73559', '1990054502543224'): 3, ('73842', '1990074400310254'): 1, ('73842', '1990122700000632'): 1, ('73842', '1990133702542153'): 3, ('73842', '1990148801259501'): 4, ('73927', '1990060602540535'): 3, ('73927', '1990062802540655'): 3, ('73927', '1990112702540490'): 1, ('74250', '1990022202539562'): 1, ('74541', '1990023400645363'): 3, ('74541', '1990062000158780'): 1, ('74541', '1990062502540090'): 1, ('74541', '1990074801535220'): 1, ('74541', '1990128800087590'): 1, ('74541', '1990134600324912'): 2, ('74626', '1990011802541369'): 1, ('74626', '1990022402543005'): 1, ('74626', '1990041302236360'): 3, ('74626', '1990049600019875'): 1, ('74626', '1990054002543466'): 3, ('74626', '1990055402506310'): 1, ('74626', '1990060702542759'): 1, ('74626', '1990126700000337'): 2, ('74715', '1990023800454016'): 1, ('74715', '1990066401795114'): 1, ('74715', '1990146702539019'): 1, ('75288', '1990017200097356'): 1, ('75288', '1990086300174384'): 3, ('75288', '1990154102543833'): 1, ('75636', '1990038800000356'): 1, ('75636', '1990080801645318'): 2, ('75639', '1990013701267938'): 3, ('75639', '1990055700422255'): 3, ('75639', '1990073800119300'): 1, ('75639', '1990115401745261'): 1, ('75639', '1990120501263633'): 2, ('75639', '1990154701761416'): 1, ('75659', '1990011802540934'): 2, ('75659', '1990029401312655'): 1, ('75659', '1990034702542630'): 3, ('75659', '1990107402542454'): 1, ('75659', '1990139802540265'): 1, ('75988', '1990060402541823'): 1, ('75988', '1990068002541407'): 1, ('75988', '1990069800115807'): 3, ('75988', '1990073501627935'): 1, ('75988', '1990129602541061'): 3, ('76285', '1990107302535198'): 3, ('76350', '1990093302542041'): 1, ('76612', '1990037902541757'): 2, ('76612', '1990110502544307'): 1, ('76612', '1990118502540271'): 1, ('76726', '1990031102541875'): 3, ('76726', '1990034502542069'): 1, ('76726', '1990086602539609'): 1, ('76726', '1990116702546320'): 1, ('76864', '1990058800748062'): 1, ('78110', '1990028400630933'): 1, ('78110', '1990073502541791'): 1, ('78110', '1990085800000097'): 2, ('78110', '1990095600011472'): 4, ('78110', '1990147800176495'): 3, ('78110', '1990151601037835'): 1, ('78110', '1990158602540176'): 1, ('79771', '1990074602274668'): 1, ('80155', '1990078002538119'): 1, ('81496', '1990063601574765'): 4, ('81496', '1990110001264830'): 1, ('81496', '1990112901589130'): 1, ('83397', '1990138602540057'): 4, ('83973', '1990154900001439'): 4, ('84168', '1990042800021146'): 3, ('84168', '1990106300059569'): 1, ('84168', '1990106800195598'): 1, ('84168', '1990147200000883'): 1, ('84237', '1990025502540554'): 1, ('84237', '1990026400070817'): 1, ('84237', '1990053502543033'): 1, ('84237', '1990141702538809'): 2, ('84265', '1990031301905181'): 1, ('84265', '1990089300034660'): 4, ('84265', '1990157402538681'): 2, ('84274', '1990012602541697'): 1, ('84274', '1990021502505711'): 4, ('84274', '1990060402542080'): 1, ('84402', '1990014602543060'): 1, ('84402', '1990053902540244'): 1, ('85210', '1990012800031989'): 1, ('85210', '1990016102540224'): 2, ('85210', '1990043102539997'): 1, ('85210', '1990117802542428'): 1, ('85210', '1990123502542147'): 3, ('85218', '1990039702539016'): 4, ('85218', '1990128302539910'): 1, ('85218', '1990130702540095'): 1, ('85218', '1990144402541009'): 1, ('85403', '1990016501065125'): 1, ('85403', '1990047900528821'): 1, ('85403', '1990080001294503'): 1, ('85403', '1990155202512379'): 3, ('85899', '1990011802540992'): 1, ('86951', '1990110102540011'): 3, ('87040', '1990132200000510'): 1, ('88084', '1990127902539317'): 1, ('88106', '1990084502540468'): 1, ('88106', '1990118700099551'): 1, ('88865', '1990042502540980'): 2, ('89531', '1990100402541916'): 2, ('89531', '1990101602537000'): 1}\n"
     ]
    }
   ],
   "source": [
    "qrels = {(row[\"qid\"], row[\"docno\"]): row[\"relevance\"] for _, row in qrels_df.iterrows()}\n",
    "print(f\"Qrels :\", qrels)"
   ]
  },
  {
   "cell_type": "markdown",
   "id": "06b02edc",
   "metadata": {},
   "source": [
    "# B - Stopping strategies"
   ]
  },
  {
   "cell_type": "markdown",
   "id": "8b3b1243",
   "metadata": {},
   "source": [
    "## B-0 extract hard and easy queries"
   ]
  },
  {
   "cell_type": "code",
   "execution_count": 11,
   "id": "3e8d1eed",
   "metadata": {},
   "outputs": [
    {
     "data": {
      "text/plain": [
       "(50, 3)"
      ]
     },
     "metadata": {},
     "output_type": "display_data"
    },
    {
     "data": {
      "text/html": [
       "<div>\n",
       "<style scoped>\n",
       "    .dataframe tbody tr th:only-of-type {\n",
       "        vertical-align: middle;\n",
       "    }\n",
       "\n",
       "    .dataframe tbody tr th {\n",
       "        vertical-align: top;\n",
       "    }\n",
       "\n",
       "    .dataframe thead th {\n",
       "        text-align: right;\n",
       "    }\n",
       "</style>\n",
       "<table border=\"1\" class=\"dataframe\">\n",
       "  <thead>\n",
       "    <tr style=\"text-align: right;\">\n",
       "      <th></th>\n",
       "      <th>qid</th>\n",
       "      <th>query</th>\n",
       "      <th>avg_score</th>\n",
       "    </tr>\n",
       "  </thead>\n",
       "  <tbody>\n",
       "    <tr>\n",
       "      <th>75</th>\n",
       "      <td>3873</td>\n",
       "      <td>sinonimi e contrari</td>\n",
       "      <td>1.875155</td>\n",
       "    </tr>\n",
       "    <tr>\n",
       "      <th>17</th>\n",
       "      <td>17624</td>\n",
       "      <td>chianciano terme</td>\n",
       "      <td>2.887562</td>\n",
       "    </tr>\n",
       "    <tr>\n",
       "      <th>13</th>\n",
       "      <td>13571</td>\n",
       "      <td>tende a rullo</td>\n",
       "      <td>2.909435</td>\n",
       "    </tr>\n",
       "    <tr>\n",
       "      <th>97</th>\n",
       "      <td>42269</td>\n",
       "      <td>yasmine bleeth</td>\n",
       "      <td>2.910354</td>\n",
       "    </tr>\n",
       "    <tr>\n",
       "      <th>92</th>\n",
       "      <td>41683</td>\n",
       "      <td>tiffany toth</td>\n",
       "      <td>3.055847</td>\n",
       "    </tr>\n",
       "    <tr>\n",
       "      <th>165</th>\n",
       "      <td>66567</td>\n",
       "      <td>rizzoli e isles</td>\n",
       "      <td>3.109468</td>\n",
       "    </tr>\n",
       "    <tr>\n",
       "      <th>66</th>\n",
       "      <td>36959</td>\n",
       "      <td>canyon aeroad</td>\n",
       "      <td>3.163643</td>\n",
       "    </tr>\n",
       "    <tr>\n",
       "      <th>152</th>\n",
       "      <td>63485</td>\n",
       "      <td>pharma news</td>\n",
       "      <td>3.189995</td>\n",
       "    </tr>\n",
       "    <tr>\n",
       "      <th>83</th>\n",
       "      <td>39334</td>\n",
       "      <td>lindsey vonn</td>\n",
       "      <td>3.293854</td>\n",
       "    </tr>\n",
       "    <tr>\n",
       "      <th>181</th>\n",
       "      <td>73055</td>\n",
       "      <td>madagascar swamp warbler</td>\n",
       "      <td>3.293873</td>\n",
       "    </tr>\n",
       "  </tbody>\n",
       "</table>\n",
       "</div>"
      ],
      "text/plain": [
       "       qid                     query  avg_score\n",
       "75    3873       sinonimi e contrari   1.875155\n",
       "17   17624          chianciano terme   2.887562\n",
       "13   13571             tende a rullo   2.909435\n",
       "97   42269            yasmine bleeth   2.910354\n",
       "92   41683              tiffany toth   3.055847\n",
       "165  66567           rizzoli e isles   3.109468\n",
       "66   36959             canyon aeroad   3.163643\n",
       "152  63485               pharma news   3.189995\n",
       "83   39334              lindsey vonn   3.293854\n",
       "181  73055  madagascar swamp warbler   3.293873"
      ]
     },
     "metadata": {},
     "output_type": "display_data"
    },
    {
     "data": {
      "text/plain": [
       "(50, 3)"
      ]
     },
     "metadata": {},
     "output_type": "display_data"
    },
    {
     "data": {
      "text/html": [
       "<div>\n",
       "<style scoped>\n",
       "    .dataframe tbody tr th:only-of-type {\n",
       "        vertical-align: middle;\n",
       "    }\n",
       "\n",
       "    .dataframe tbody tr th {\n",
       "        vertical-align: top;\n",
       "    }\n",
       "\n",
       "    .dataframe thead th {\n",
       "        text-align: right;\n",
       "    }\n",
       "</style>\n",
       "<table border=\"1\" class=\"dataframe\">\n",
       "  <thead>\n",
       "    <tr style=\"text-align: right;\">\n",
       "      <th></th>\n",
       "      <th>qid</th>\n",
       "      <th>query</th>\n",
       "      <th>avg_score</th>\n",
       "    </tr>\n",
       "  </thead>\n",
       "  <tbody>\n",
       "    <tr>\n",
       "      <th>144</th>\n",
       "      <td>61157</td>\n",
       "      <td>monarcha melanopsis</td>\n",
       "      <td>17.614985</td>\n",
       "    </tr>\n",
       "    <tr>\n",
       "      <th>173</th>\n",
       "      <td>69694</td>\n",
       "      <td>aulacorhynchus sulcatus</td>\n",
       "      <td>17.354201</td>\n",
       "    </tr>\n",
       "    <tr>\n",
       "      <th>82</th>\n",
       "      <td>39191</td>\n",
       "      <td>lapo elkann</td>\n",
       "      <td>15.404765</td>\n",
       "    </tr>\n",
       "    <tr>\n",
       "      <th>120</th>\n",
       "      <td>54092</td>\n",
       "      <td>allevamenti trotto</td>\n",
       "      <td>13.544531</td>\n",
       "    </tr>\n",
       "    <tr>\n",
       "      <th>142</th>\n",
       "      <td>60906</td>\n",
       "      <td>poospiza cinerea</td>\n",
       "      <td>12.761345</td>\n",
       "    </tr>\n",
       "    <tr>\n",
       "      <th>160</th>\n",
       "      <td>65027</td>\n",
       "      <td>circaetus cinerascens</td>\n",
       "      <td>12.365471</td>\n",
       "    </tr>\n",
       "    <tr>\n",
       "      <th>157</th>\n",
       "      <td>64257</td>\n",
       "      <td>innesto a baionetta</td>\n",
       "      <td>12.318140</td>\n",
       "    </tr>\n",
       "    <tr>\n",
       "      <th>42</th>\n",
       "      <td>27486</td>\n",
       "      <td>membrana biocompatibile</td>\n",
       "      <td>10.435834</td>\n",
       "    </tr>\n",
       "    <tr>\n",
       "      <th>59</th>\n",
       "      <td>34043</td>\n",
       "      <td>pbg quarzi</td>\n",
       "      <td>10.161512</td>\n",
       "    </tr>\n",
       "    <tr>\n",
       "      <th>172</th>\n",
       "      <td>69183</td>\n",
       "      <td>cinereous antshrike</td>\n",
       "      <td>10.143439</td>\n",
       "    </tr>\n",
       "  </tbody>\n",
       "</table>\n",
       "</div>"
      ],
      "text/plain": [
       "       qid                    query  avg_score\n",
       "144  61157      monarcha melanopsis  17.614985\n",
       "173  69694  aulacorhynchus sulcatus  17.354201\n",
       "82   39191              lapo elkann  15.404765\n",
       "120  54092       allevamenti trotto  13.544531\n",
       "142  60906         poospiza cinerea  12.761345\n",
       "160  65027    circaetus cinerascens  12.365471\n",
       "157  64257      innesto a baionetta  12.318140\n",
       "42   27486  membrana biocompatibile  10.435834\n",
       "59   34043               pbg quarzi  10.161512\n",
       "172  69183      cinereous antshrike  10.143439"
      ]
     },
     "metadata": {},
     "output_type": "display_data"
    }
   ],
   "source": [
    "index = pt.IndexFactory.of(\"index/data_1.properties\")\n",
    "pl2 = pt.terrier.Retriever(index, wmodel=\"PL2\", num_results =1000, metadata=['docno'])\n",
    "hard_query_ranking  = pl2.transform(queries_df)\n",
    "avg_scores = (\n",
    "    hard_query_ranking\n",
    "    .groupby([\"qid\", \"query\"])[\"score\"]\n",
    "    .mean()\n",
    "    .reset_index(name=\"avg_score\")\n",
    ")\n",
    "hardest = avg_scores.sort_values(\"avg_score\", ascending=True).head(50)\n",
    "hardest[[\"qid\", \"query\"]].to_csv(\"data/hard_queries.csv\", index=False)\n",
    "easiest = avg_scores.sort_values(\"avg_score\", ascending=False).head(50)\n",
    "easiest[[\"qid\", \"query\"]].to_csv(\"data/easy_queries.csv\", index=False)\n",
    "display(hardest.shape, hardest.head(10))\n",
    "display(easiest.shape, easiest.head(10))"
   ]
  },
  {
   "cell_type": "markdown",
   "id": "8c33077c",
   "metadata": {},
   "source": [
    "## B-1 initial ranking"
   ]
  },
  {
   "cell_type": "code",
   "execution_count": 12,
   "id": "a462e663",
   "metadata": {},
   "outputs": [],
   "source": [
    "index = pt.IndexFactory.of(\"index/data_1.properties\")\n",
    "pl2 = pt.terrier.Retriever(index, wmodel=\"PL2\", num_results =100, metadata=['docno', 'text'])\n",
    "initial_ranking  = pl2.transform(queries_df)\n"
   ]
  },
  {
   "cell_type": "code",
   "execution_count": 13,
   "id": "e0549246",
   "metadata": {},
   "outputs": [
    {
     "data": {
      "text/html": [
       "<div>\n",
       "<style scoped>\n",
       "    .dataframe tbody tr th:only-of-type {\n",
       "        vertical-align: middle;\n",
       "    }\n",
       "\n",
       "    .dataframe tbody tr th {\n",
       "        vertical-align: top;\n",
       "    }\n",
       "\n",
       "    .dataframe thead th {\n",
       "        text-align: right;\n",
       "    }\n",
       "</style>\n",
       "<table border=\"1\" class=\"dataframe\">\n",
       "  <thead>\n",
       "    <tr style=\"text-align: right;\">\n",
       "      <th></th>\n",
       "      <th>qid</th>\n",
       "      <th>docid</th>\n",
       "      <th>docno</th>\n",
       "      <th>text</th>\n",
       "      <th>rank</th>\n",
       "      <th>score</th>\n",
       "      <th>query</th>\n",
       "    </tr>\n",
       "  </thead>\n",
       "  <tbody>\n",
       "    <tr>\n",
       "      <th>0</th>\n",
       "      <td>594</td>\n",
       "      <td>129013</td>\n",
       "      <td>1990131000007252</td>\n",
       "      <td>Video sportivi - Sport Mediaset</td>\n",
       "      <td>0</td>\n",
       "      <td>12.928206</td>\n",
       "      <td>mediaset video</td>\n",
       "    </tr>\n",
       "    <tr>\n",
       "      <th>1</th>\n",
       "      <td>594</td>\n",
       "      <td>56684</td>\n",
       "      <td>1990012301082193</td>\n",
       "      <td>nuova fiction mediaset | Spindle\\n\\nnuova fict...</td>\n",
       "      <td>1</td>\n",
       "      <td>11.860954</td>\n",
       "      <td>mediaset video</td>\n",
       "    </tr>\n",
       "    <tr>\n",
       "      <th>2</th>\n",
       "      <td>594</td>\n",
       "      <td>60702</td>\n",
       "      <td>1990066102541092</td>\n",
       "      <td>Video Amici: Francesco e Anbeta - You never ca...</td>\n",
       "      <td>2</td>\n",
       "      <td>11.591290</td>\n",
       "      <td>mediaset video</td>\n",
       "    </tr>\n",
       "    <tr>\n",
       "      <th>3</th>\n",
       "      <td>594</td>\n",
       "      <td>128971</td>\n",
       "      <td>1990126700174684</td>\n",
       "      <td>Video Tgcom24: Francesco Nuti da Barbara D'Urs...</td>\n",
       "      <td>3</td>\n",
       "      <td>11.494154</td>\n",
       "      <td>mediaset video</td>\n",
       "    </tr>\n",
       "    <tr>\n",
       "      <th>4</th>\n",
       "      <td>594</td>\n",
       "      <td>53153</td>\n",
       "      <td>1990012102481006</td>\n",
       "      <td>Cannes: Lionsgate Intl. Rolls Out ‘Marrowbone’...</td>\n",
       "      <td>4</td>\n",
       "      <td>10.046203</td>\n",
       "      <td>mediaset video</td>\n",
       "    </tr>\n",
       "    <tr>\n",
       "      <th>5</th>\n",
       "      <td>594</td>\n",
       "      <td>98506</td>\n",
       "      <td>1990011301631960</td>\n",
       "      <td>Prisa confirms appeal against Spanish DTT awar...</td>\n",
       "      <td>5</td>\n",
       "      <td>9.050257</td>\n",
       "      <td>mediaset video</td>\n",
       "    </tr>\n",
       "    <tr>\n",
       "      <th>6</th>\n",
       "      <td>594</td>\n",
       "      <td>41143</td>\n",
       "      <td>1990011602091449</td>\n",
       "      <td>Shroud of the Avatar Streaming on a Nexus Play...</td>\n",
       "      <td>6</td>\n",
       "      <td>8.132299</td>\n",
       "      <td>mediaset video</td>\n",
       "    </tr>\n",
       "    <tr>\n",
       "      <th>7</th>\n",
       "      <td>594</td>\n",
       "      <td>100768</td>\n",
       "      <td>1990011401264059</td>\n",
       "      <td>New Ooyala Study Shows Mobile Audiences Matter...</td>\n",
       "      <td>7</td>\n",
       "      <td>8.037220</td>\n",
       "      <td>mediaset video</td>\n",
       "    </tr>\n",
       "    <tr>\n",
       "      <th>8</th>\n",
       "      <td>594</td>\n",
       "      <td>55138</td>\n",
       "      <td>1990012202023484</td>\n",
       "      <td>Mancini: Inter’s loss to Lazio was stupid | Fo...</td>\n",
       "      <td>8</td>\n",
       "      <td>7.675206</td>\n",
       "      <td>mediaset video</td>\n",
       "    </tr>\n",
       "    <tr>\n",
       "      <th>9</th>\n",
       "      <td>594</td>\n",
       "      <td>1477</td>\n",
       "      <td>1990010001436487</td>\n",
       "      <td>Sportpesa » Chelsea will meet the agent of Eze...</td>\n",
       "      <td>9</td>\n",
       "      <td>7.559798</td>\n",
       "      <td>mediaset video</td>\n",
       "    </tr>\n",
       "  </tbody>\n",
       "</table>\n",
       "</div>"
      ],
      "text/plain": [
       "   qid   docid             docno  \\\n",
       "0  594  129013  1990131000007252   \n",
       "1  594   56684  1990012301082193   \n",
       "2  594   60702  1990066102541092   \n",
       "3  594  128971  1990126700174684   \n",
       "4  594   53153  1990012102481006   \n",
       "5  594   98506  1990011301631960   \n",
       "6  594   41143  1990011602091449   \n",
       "7  594  100768  1990011401264059   \n",
       "8  594   55138  1990012202023484   \n",
       "9  594    1477  1990010001436487   \n",
       "\n",
       "                                                text  rank      score  \\\n",
       "0                    Video sportivi - Sport Mediaset     0  12.928206   \n",
       "1  nuova fiction mediaset | Spindle\\n\\nnuova fict...     1  11.860954   \n",
       "2  Video Amici: Francesco e Anbeta - You never ca...     2  11.591290   \n",
       "3  Video Tgcom24: Francesco Nuti da Barbara D'Urs...     3  11.494154   \n",
       "4  Cannes: Lionsgate Intl. Rolls Out ‘Marrowbone’...     4  10.046203   \n",
       "5  Prisa confirms appeal against Spanish DTT awar...     5   9.050257   \n",
       "6  Shroud of the Avatar Streaming on a Nexus Play...     6   8.132299   \n",
       "7  New Ooyala Study Shows Mobile Audiences Matter...     7   8.037220   \n",
       "8  Mancini: Inter’s loss to Lazio was stupid | Fo...     8   7.675206   \n",
       "9  Sportpesa » Chelsea will meet the agent of Eze...     9   7.559798   \n",
       "\n",
       "            query  \n",
       "0  mediaset video  \n",
       "1  mediaset video  \n",
       "2  mediaset video  \n",
       "3  mediaset video  \n",
       "4  mediaset video  \n",
       "5  mediaset video  \n",
       "6  mediaset video  \n",
       "7  mediaset video  \n",
       "8  mediaset video  \n",
       "9  mediaset video  "
      ]
     },
     "execution_count": 13,
     "metadata": {},
     "output_type": "execute_result"
    }
   ],
   "source": [
    "initial_ranking.head(10)"
   ]
  },
  {
   "cell_type": "code",
   "execution_count": 14,
   "id": "b2bf1c5b",
   "metadata": {},
   "outputs": [
    {
     "data": {
      "text/plain": [
       "{'map': 0.6592542543732097,\n",
       " 'ndcg': 0.7072426270693265,\n",
       " 'P@5': 0.3324786324786329,\n",
       " 'P@10': 0.20085470085470108,\n",
       " 'P@15': 0.14358974358974338,\n",
       " 'P@20': 0.11047008547008562,\n",
       " 'P@30': 0.0769230769230769,\n",
       " 'P@100': 0.023974358974358918,\n",
       " 'P@200': 0.011987179487179459,\n",
       " 'P@500': 0.004794871794871798,\n",
       " 'P@1000': 0.002397435897435899}"
      ]
     },
     "execution_count": 14,
     "metadata": {},
     "output_type": "execute_result"
    }
   ],
   "source": [
    "pt.Evaluate(initial_ranking, qrels_df, metrics=['map', \"ndcg\", \"P\"], perquery=False)"
   ]
  },
  {
   "cell_type": "markdown",
   "id": "9f942d18",
   "metadata": {},
   "source": [
    "## B-2 stopping transformations"
   ]
  },
  {
   "cell_type": "code",
   "execution_count": 15,
   "id": "7af56144",
   "metadata": {},
   "outputs": [],
   "source": [
    "meta = index.getMetaIndex()\n",
    "\n",
    "def get_text_from_index(docid):\n",
    "    return meta.getItem(\"text\", int(docid))\n"
   ]
  },
  {
   "cell_type": "code",
   "execution_count": null,
   "id": "45192437",
   "metadata": {},
   "outputs": [],
   "source": [
    "qrels = {\n",
    "\t(str(row.qid), str(row.docno)): int(row.relevance)\n",
    "\tfor row in qrels_df.itertuples()\n",
    "}\n",
    "\n",
    "def apply_ss1(ranking, qid, x1):\n",
    "\treturn ranking.iloc[:x1]\n",
    "\n",
    "def apply_ss2(ranking, qid, x2):\n",
    "\tnon_rel = 0\n",
    "\tkept_idx = []\n",
    "\tfor idx, row in ranking.iterrows():\n",
    "\t\tkept_idx.append(idx)\n",
    "\t\t# On récupère la pertinence via le dict ; défaut 0 si absent\n",
    "\t\trel = qrels.get((str(qid), str(row.docno)), 0)\n",
    "\t\tif rel == 0:\n",
    "\t\t\tnon_rel += 1\n",
    "\t\tif non_rel >= x2:\n",
    "\t\t\tbreak\n",
    "\treturn ranking.loc[kept_idx]\n",
    "\n",
    "def apply_ss3(ranking, qid, x3):\n",
    "\tconsec = 0\n",
    "\tkept_idx = []\n",
    "\tfor idx, row in ranking.iterrows():\n",
    "\t\tkept_idx.append(idx)\n",
    "\t\trel = qrels.get((str(qid), str(row.docno)), 0)\n",
    "\t\tif rel == 0:\n",
    "\t\t\tconsec += 1\n",
    "\t\telse:\n",
    "\t\t\tconsec = 0\n",
    "\t\tif consec >= x3:\n",
    "\t\t\tbreak\n",
    "\treturn ranking.loc[kept_idx]\n",
    "\n",
    "\n",
    "def apply_ss4(ranking, qid, x4):\n",
    "\tseen_terms = set()\n",
    "\tstop_at = None\n",
    "\tfor idx, row in ranking.iterrows():\n",
    "\t\tterms_curr = set(row[\"text\"].split())\n",
    "\t\toverlap = len(terms_curr & seen_terms) / max(len(terms_curr), 1)\n",
    "\t\tif overlap > x4:\n",
    "\t\t\tstop_at = idx\n",
    "\t\t\tbreak\n",
    "\t\tseen_terms |= terms_curr\n",
    "\tif stop_at is None:\n",
    "\t\treturn ranking.copy()\n",
    "\treturn ranking.loc[:stop_at]\n",
    "from collections import Counter\n",
    "import math\n",
    "\n",
    "def apply_ss5(ranking, qid, x5):\n",
    "\tseen_counts = Counter()\n",
    "\ttotal_seen  = 0\n",
    "\tstop_at     = None\n",
    "\n",
    "\tfor idx_row, row in ranking.iterrows():\n",
    "\t\tfull_text  = get_text_from_index(row[\"docid\"])\n",
    "\t\twords_curr = full_text.split()\n",
    "\t\tcount_curr = Counter(words_curr)\n",
    "\t\ttotal_curr = sum(count_curr.values())\n",
    "\t\tP_curr     = {w: c/total_curr for w, c in count_curr.items()}\n",
    "\t\tP_prev = {w: seen_counts[w]/total_seen for w in seen_counts} if total_seen>0 else {}\n",
    "\t\tkl = sum(p * math.log(p / P_prev.get(w, 1e-15)) for w, p in P_curr.items())\n",
    "\t\tif kl < x5:\n",
    "\t\t\tstop_at = idx_row\n",
    "\t\t\tbreak\n",
    "\t\tseen_counts.update(count_curr)\n",
    "\t\ttotal_seen  += total_curr\n",
    "\treturn ranking if stop_at is None else ranking.loc[:stop_at]\n",
    "\n",
    "\n",
    "def apply_ss6(ranking, qid, x6, td=1.0, tq=2.0):\n",
    "\tcum_gain = 0.0\n",
    "\tstop_at = None\n",
    "\tfor rank, row in ranking.iterrows():\n",
    "\t\trel = qrels.get((str(qid), str(row.docno)), 0)\n",
    "\t\tcum_gain += (2**rel-1) / math.log2(rank + 2) \n",
    "\t\tcost = rank * td + tq\n",
    "\t\trate = cum_gain / cost\n",
    "\n",
    "\t\tif rank >= 4.0 and rate < x6:  # commencer à estimer après 2 documents\n",
    "\t\t\tstop_at = rank\n",
    "\t\t\tbreak\n",
    "\n",
    "\tif stop_at is None:\n",
    "\t\treturn ranking.copy()\n",
    "\treturn ranking.iloc[:stop_at+1]\n",
    "\n",
    "\n"
   ]
  },
  {
   "cell_type": "markdown",
   "id": "9b5e9286",
   "metadata": {},
   "source": [
    "## B-2 Le gain cumulatif moyen"
   ]
  },
  {
   "cell_type": "code",
   "execution_count": 163,
   "id": "ca7b360b",
   "metadata": {},
   "outputs": [],
   "source": [
    "def dcg_at_k(rels):\n",
    "    return sum((2**rel -1)/(math.log2(idx+2)) for idx, rel in enumerate(rels))\n",
    "\n",
    "def cg_at_k(rels):\n",
    "    return sum(rels)\n",
    "\n",
    "def average_dcg_and_avr_depth(stopping_function, x=0, initial_ranking=initial_ranking):\n",
    "    total_dcg = 0.0\n",
    "    total_depth = 0\n",
    "    for qid in queries_df[\"qid\"]:\n",
    "        subrank = initial_ranking[initial_ranking[\"qid\"] == qid] \\\n",
    "                    .sort_values(\"score\", ascending=False)\n",
    "        stopped = stopping_function(subrank, qid, x)\n",
    "        docnos = stopped[\"docno\"].tolist()\n",
    "        relevs = [qrels.get((qid, docno)) for docno in docnos] # make zero if not found\n",
    "        #relevs = [-1 if rel==0 else rel for rel in relevs]\n",
    "        relevs = [-1 if rel is None else rel for rel in relevs]\n",
    "        total_dcg  += dcg_at_k(relevs) \n",
    "        total_depth += len(docnos)\n",
    "    return total_dcg / len(queries_df), total_depth / len(queries_df)\n"
   ]
  },
  {
   "cell_type": "code",
   "execution_count": 173,
   "id": "cb440765",
   "metadata": {},
   "outputs": [
    {
     "name": "stdout",
     "output_type": "stream",
     "text": [
      "=== Run 1/1 ===\n"
     ]
    },
    {
     "name": "stderr",
     "output_type": "stream",
     "text": [
      "SS1: 100%|██████████| 12/12 [00:05<00:00,  2.35it/s]\n",
      "SS2: 100%|██████████| 117/117 [01:05<00:00,  1.78it/s]\n",
      "SS3: 100%|██████████| 117/117 [01:06<00:00,  1.75it/s]\n",
      "SS4: 100%|██████████| 16/16 [00:09<00:00,  1.76it/s]\n",
      "SS5: 100%|██████████| 19/19 [00:15<00:00,  1.22it/s]\n"
     ]
    }
   ],
   "source": [
    "import json\n",
    "import numpy as np\n",
    "from tqdm import tqdm\n",
    "\n",
    "x1_values = np.arange(1, 13, 1)\n",
    "x2_values = np.arange(1, 8, 0.06)\n",
    "x3_values = x2_values\n",
    "x4_values = np.arange(0.1, 0.4, 0.02)\n",
    "x5_values = np.arange(14, 25, 0.6)\n",
    "#x6_values = np.arange(0.002, 0.1, 0.001*3)\n",
    "\n",
    "N_RUNS = 1\n",
    "\n",
    "\n",
    "raw = {\n",
    "    \"SS1\": {\"x\": x1_values, \"gains\": [],  \"depths\": []},\n",
    "    \"SS2\": {\"x\": x2_values, \"gains\": [],  \"depths\": []},\n",
    "    \"SS3\": {\"x\": x3_values, \"gains\": [],  \"depths\": []},\n",
    "    \"SS4\": {\"x\": x4_values, \"gains\": [],  \"depths\": []},\n",
    "    \"SS5\": {\"x\": x5_values, \"gains\": [],  \"depths\": []}\n",
    "}\n",
    "\n",
    "strategies = {\n",
    "\t\"SS1\": apply_ss1,\n",
    "    \"SS2\": apply_ss2,\n",
    "    \"SS3\": apply_ss3,\n",
    "    \"SS4\": apply_ss4,\n",
    "    \"SS5\": apply_ss5\n",
    "}\n",
    "\n",
    "for run in range(N_RUNS):\n",
    "    print(f\"=== Run {run+1}/{N_RUNS} ===\")\n",
    "    for name, func in strategies.items():\n",
    "        x_vals = raw[name][\"x\"]\n",
    "        gains_run  = []\n",
    "        depths_run = []\n",
    "        for x in tqdm(x_vals, desc=name):\n",
    "            cg, dp = average_dcg_and_avr_depth(func, x=x, initial_ranking=initial_ranking)\n",
    "            gains_run.append(cg)\n",
    "            depths_run.append(dp)\n",
    "        raw[name][\"gains\"].append(gains_run)\n",
    "        raw[name][\"depths\"].append(depths_run)\n",
    "\n",
    "results = {}\n",
    "for name in strategies:\n",
    "    arr_gains  = np.array(raw[name][\"gains\"])   # shape (N_RUNS, len(x))\n",
    "    arr_depths = np.array(raw[name][\"depths\"])\n",
    "    mean_gains  = arr_gains.mean(axis=0).tolist()\n",
    "    mean_depths = arr_depths.mean(axis=0).tolist()\n",
    "    results[name] = {\n",
    "        \"x\":   raw[name][\"x\"].tolist(),\n",
    "        \"gains\":  mean_gains,\n",
    "        \"depths\": mean_depths\n",
    "    }\n",
    "\n",
    "with open(\"results/avg_full_stopping_strategies_results_final.json\", \"w\") as fp:\n",
    "    json.dump(results, fp, indent=4)\n",
    "\n"
   ]
  },
  {
   "cell_type": "code",
   "execution_count": 174,
   "id": "26a84126",
   "metadata": {},
   "outputs": [],
   "source": [
    "def plot(file=\"results/full_hard_stopping_strategies_results_final.json\", title=\"title\"):\n",
    "\timport matplotlib.pyplot as plt\n",
    "\tplt.figure(figsize=(5, 5))\n",
    "\timport seaborn as sns\n",
    "\tsns.set_style(\"whitegrid\")\n",
    "\twith open(file, \"r\") as f:\n",
    "\t\tdata = json.load(f)\n",
    "\t\tss1_depths = data[\"SS1\"][\"depths\"]\n",
    "\t\tss1_gains = data[\"SS1\"][\"gains\"]\n",
    "\t\tss2_depths = data[\"SS2\"][\"depths\"]\t\n",
    "\t\tss2_gains = data[\"SS2\"][\"gains\"]\n",
    "\t\tss3_depths = data[\"SS3\"][\"depths\"]\n",
    "\t\tss3_gains = data[\"SS3\"][\"gains\"]\n",
    "\t\tss4_depths = data[\"SS4\"][\"depths\"]\n",
    "\t\tss4_gains = data[\"SS4\"][\"gains\"]\n",
    "\t\tss5_depths = data[\"SS5\"][\"depths\"]\n",
    "\t\tss5_gains = data[\"SS5\"][\"gains\"]\n",
    "\t\n",
    "\n",
    "\tsns.lineplot(x=ss1_depths, y=ss1_gains, label=\"SS1\", marker='o')\n",
    "\tsns.lineplot(x=ss2_depths, y=ss2_gains, label=\"SS2\", marker='D')\n",
    "\tsns.lineplot(x=ss3_depths, y=ss3_gains, label=\"SS3\", marker='v')\n",
    "\tsns.lineplot(x=ss4_depths, y=ss4_gains, label=\"SS4\", marker='^')\n",
    "\tsns.lineplot(x=ss5_depths, y=ss5_gains, label=\"SS5\", marker='s')\n",
    "\tplt.xlabel(\"Mean Depth/Query\")\n",
    "\tplt.ylabel(\"Mean CG\")\n",
    "\tplt.title(title)\n",
    "\tplt.legend()\n",
    "\tplt.show()\n",
    " \n"
   ]
  },
  {
   "cell_type": "code",
   "execution_count": 175,
   "id": "16e27dc7",
   "metadata": {},
   "outputs": [
    {
     "data": {
      "image/png": "[encoded data removed]",
      "text/plain": [
       "<Figure size 500x500 with 1 Axes>"
      ]
     },
     "metadata": {},
     "output_type": "display_data"
    }
   ],
   "source": [
    "plot(\"results/avg_full_stopping_strategies_results_final.json\", title = \"Stopping Strategies on Istella22 using all queries\")\n"
   ]
  },
  {
   "cell_type": "markdown",
   "id": "e4139ba1",
   "metadata": {},
   "source": [
    "## B-3 REDO with hard queries"
   ]
  },
  {
   "cell_type": "code",
   "execution_count": 152,
   "id": "904304ea",
   "metadata": {},
   "outputs": [],
   "source": [
    "hard_queries_df = pd.read_csv(\"data/hard_queries.csv\")\n",
    "index = pt.IndexFactory.of(\"index/data_1.properties\")\n",
    "pl2 = pt.terrier.Retriever(index, wmodel=\"PL2\", num_results =100, metadata=['docno', 'text'])\n",
    "initial_ranking_hard  = pl2.transform(hard_queries_df)"
   ]
  },
  {
   "cell_type": "code",
   "execution_count": 153,
   "id": "2bef0f92",
   "metadata": {},
   "outputs": [
    {
     "data": {
      "text/plain": [
       "{'map': 0.15294000282133258,\n",
       " 'ndcg': 0.16485916881975543,\n",
       " 'P@5': 0.0735042735042735,\n",
       " 'P@10': 0.04230769230769229,\n",
       " 'P@15': 0.029914529914529926,\n",
       " 'P@20': 0.022435897435897422,\n",
       " 'P@30': 0.01538461538461539,\n",
       " 'P@100': 0.004700854700854703,\n",
       " 'P@200': 0.0023504273504273516,\n",
       " 'P@500': 0.0009401709401709405,\n",
       " 'P@1000': 0.00047008547008547025}"
      ]
     },
     "execution_count": 153,
     "metadata": {},
     "output_type": "execute_result"
    }
   ],
   "source": [
    "pt.Evaluate(initial_ranking_hard, qrels_df, metrics=['map', \"ndcg\", \"P\"], perquery=False)"
   ]
  },
  {
   "cell_type": "code",
   "execution_count": 154,
   "id": "4235316d",
   "metadata": {},
   "outputs": [
    {
     "name": "stdout",
     "output_type": "stream",
     "text": [
      "=== Run 1/3 ===\n"
     ]
    },
    {
     "name": "stderr",
     "output_type": "stream",
     "text": [
      "SS1: 100%|██████████| 12/12 [00:02<00:00,  4.78it/s]\n",
      "SS2: 100%|██████████| 30/30 [00:07<00:00,  3.80it/s]\n",
      "SS3: 100%|██████████| 30/30 [00:08<00:00,  3.71it/s]\n",
      "SS4: 100%|██████████| 16/16 [00:03<00:00,  4.14it/s]\n",
      "SS5: 100%|██████████| 19/19 [00:05<00:00,  3.17it/s]\n"
     ]
    },
    {
     "name": "stdout",
     "output_type": "stream",
     "text": [
      "=== Run 2/3 ===\n"
     ]
    },
    {
     "name": "stderr",
     "output_type": "stream",
     "text": [
      "SS1: 100%|██████████| 12/12 [00:02<00:00,  5.44it/s]\n",
      "SS2: 100%|██████████| 30/30 [00:07<00:00,  3.81it/s]\n",
      "SS3: 100%|██████████| 30/30 [00:08<00:00,  3.48it/s]\n",
      "SS4: 100%|██████████| 16/16 [00:03<00:00,  4.29it/s]\n",
      "SS5: 100%|██████████| 19/19 [00:13<00:00,  1.42it/s]\n"
     ]
    },
    {
     "name": "stdout",
     "output_type": "stream",
     "text": [
      "=== Run 3/3 ===\n"
     ]
    },
    {
     "name": "stderr",
     "output_type": "stream",
     "text": [
      "SS1: 100%|██████████| 12/12 [00:05<00:00,  2.21it/s]\n",
      "SS2: 100%|██████████| 30/30 [00:19<00:00,  1.55it/s]\n",
      "SS3: 100%|██████████| 30/30 [00:20<00:00,  1.46it/s]\n",
      "SS4: 100%|██████████| 16/16 [00:10<00:00,  1.51it/s]\n",
      "SS5: 100%|██████████| 19/19 [00:10<00:00,  1.77it/s]\n"
     ]
    }
   ],
   "source": [
    "import json\n",
    "import numpy as np\n",
    "from tqdm import tqdm\n",
    "\n",
    "x1_values = np.arange(1, 13, 1)\n",
    "x2_values = np.arange(1, 7, 0.2)\n",
    "x3_values = x2_values\n",
    "x4_values = np.arange(0.1, 0.4, 0.02)\n",
    "x5_values = np.arange(14, 25, 0.6)\n",
    "x6_values = np.arange(0.002, 0.03, 0.002)\n",
    "\n",
    "N_RUNS = 3\n",
    "\n",
    "raw = {\n",
    "    \"SS1\": {\"x\": x1_values, \"gains\": [],  \"depths\": []},\n",
    "    \"SS2\": {\"x\": x2_values, \"gains\": [],  \"depths\": []},\n",
    "    \"SS3\": {\"x\": x3_values, \"gains\": [],  \"depths\": []},\n",
    "    \"SS4\": {\"x\": x4_values, \"gains\": [],  \"depths\": []},\n",
    "    \"SS5\": {\"x\": x5_values, \"gains\": [],  \"depths\": []}\n",
    "    }\n",
    "\n",
    "strategies = {\n",
    "    \"SS1\": apply_ss1,\n",
    "    \"SS2\": apply_ss2,\n",
    "    \"SS3\": apply_ss3,\n",
    "    \"SS4\": apply_ss4,\n",
    "    \"SS5\": apply_ss5\n",
    "    }\n",
    "\n",
    "for run in range(N_RUNS):\n",
    "    print(f\"=== Run {run+1}/{N_RUNS} ===\")\n",
    "    for name, func in strategies.items():\n",
    "        x_vals = raw[name][\"x\"]\n",
    "        gains_run  = []\n",
    "        depths_run = []\n",
    "        for x in tqdm(x_vals, desc=name):\n",
    "            cg, dp = average_dcg_and_avr_depth(func, x=x, initial_ranking=initial_ranking_hard)\n",
    "            gains_run.append(cg)\n",
    "            depths_run.append(dp)\n",
    "        raw[name][\"gains\"].append(gains_run)\n",
    "        raw[name][\"depths\"].append(depths_run)\n",
    "\n",
    "results = {}\n",
    "for name in strategies:\n",
    "    arr_gains  = np.array(raw[name][\"gains\"])   # shape (N_RUNS, len(x))\n",
    "    arr_depths = np.array(raw[name][\"depths\"])\n",
    "    mean_gains  = arr_gains.mean(axis=0).tolist()\n",
    "    mean_depths = arr_depths.mean(axis=0).tolist()\n",
    "    results[name] = {\n",
    "        \"x\":   raw[name][\"x\"].tolist(),\n",
    "        \"gains\":  mean_gains,\n",
    "        \"depths\": mean_depths\n",
    "    }\n",
    "\n",
    "with open(\"results/avg_hard_full_stopping_strategies_results_final.json\", \"w\") as fp:\n",
    "    json.dump(results, fp, indent=4)\n",
    "\n"
   ]
  },
  {
   "cell_type": "code",
   "execution_count": 155,
   "id": "89c153f5",
   "metadata": {},
   "outputs": [
    {
     "data": {
      "image/png": "[encoded data removed]",
      "text/plain": [
       "<Figure size 500x500 with 1 Axes>"
      ]
     },
     "metadata": {},
     "output_type": "display_data"
    }
   ],
   "source": [
    "plot(\"results/avg_hard_full_stopping_strategies_results_final.json\", title = \"Stopping Strategies on Istella22 using hard queries\")"
   ]
  },
  {
   "cell_type": "markdown",
   "id": "bef02b27",
   "metadata": {},
   "source": [
    "## B-4 REDO with easy queries"
   ]
  },
  {
   "cell_type": "code",
   "execution_count": 246,
   "id": "3c801031",
   "metadata": {},
   "outputs": [],
   "source": [
    "easy_queries_df = pd.read_csv(\"data/easy_queries.csv\")\n",
    "index = pt.IndexFactory.of(\"index/data_1.properties\")\n",
    "pl2 = pt.terrier.Retriever(index, wmodel=\"PL2\", num_results =100, metadata=['docno', 'text'])\n",
    "initial_ranking_easy  = pl2.transform(easy_queries_df)"
   ]
  },
  {
   "cell_type": "code",
   "execution_count": 247,
   "id": "bd2823d8",
   "metadata": {},
   "outputs": [
    {
     "data": {
      "text/plain": [
       "{'map': 0.16586629528572638,\n",
       " 'ndcg': 0.16784325516237625,\n",
       " 'P@5': 0.09145299145299142,\n",
       " 'P@10': 0.05598290598290596,\n",
       " 'P@15': 0.039031339031339034,\n",
       " 'P@20': 0.030341880341880338,\n",
       " 'P@30': 0.0207977207977208,\n",
       " 'P@100': 0.006367521367521371,\n",
       " 'P@200': 0.0031837606837606855,\n",
       " 'P@500': 0.001273504273504274,\n",
       " 'P@1000': 0.000636752136752137}"
      ]
     },
     "execution_count": 247,
     "metadata": {},
     "output_type": "execute_result"
    }
   ],
   "source": [
    "pt.Evaluate(initial_ranking_easy, qrels_df, metrics=['map', \"ndcg\", \"P\"], perquery=False)"
   ]
  },
  {
   "cell_type": "code",
   "execution_count": null,
   "id": "c44f09e8",
   "metadata": {},
   "outputs": [
    {
     "name": "stdout",
     "output_type": "stream",
     "text": [
      "=== Run 1/3 ===\n"
     ]
    },
    {
     "name": "stderr",
     "output_type": "stream",
     "text": [
      "SS1: 100%|██████████| 24/24 [00:06<00:00,  3.48it/s]\n",
      "SS2: 100%|██████████| 24/24 [00:10<00:00,  2.39it/s]\n",
      "SS3: 100%|██████████| 24/24 [00:09<00:00,  2.65it/s]\n",
      "SS4: 100%|██████████| 18/18 [00:17<00:00,  1.06it/s]\n",
      "SS5: 100%|██████████| 11/11 [00:31<00:00,  2.89s/it]\n"
     ]
    },
    {
     "name": "stdout",
     "output_type": "stream",
     "text": [
      "=== Run 2/3 ===\n"
     ]
    },
    {
     "name": "stderr",
     "output_type": "stream",
     "text": [
      "SS1: 100%|██████████| 24/24 [00:07<00:00,  3.26it/s]\n",
      "SS2: 100%|██████████| 24/24 [00:10<00:00,  2.33it/s]\n",
      "SS3: 100%|██████████| 24/24 [00:10<00:00,  2.34it/s]\n",
      "SS4: 100%|██████████| 18/18 [00:33<00:00,  1.84s/it]\n",
      "SS5: 100%|██████████| 11/11 [01:22<00:00,  7.55s/it]\n"
     ]
    },
    {
     "name": "stdout",
     "output_type": "stream",
     "text": [
      "=== Run 3/3 ===\n"
     ]
    },
    {
     "name": "stderr",
     "output_type": "stream",
     "text": [
      "SS1: 100%|██████████| 24/24 [00:11<00:00,  2.01it/s]\n",
      "SS2: 100%|██████████| 24/24 [00:14<00:00,  1.71it/s]\n",
      "SS3: 100%|██████████| 24/24 [00:10<00:00,  2.30it/s]\n",
      "SS4: 100%|██████████| 18/18 [00:09<00:00,  1.93it/s]\n",
      "SS5: 100%|██████████| 11/11 [01:10<00:00,  6.37s/it]\n"
     ]
    }
   ],
   "source": [
    "import json\n",
    "import numpy as np\n",
    "from tqdm import tqdm\n",
    "\n",
    "x1_values = np.concatenate((np.arange(1, 20, 1), np.arange(20, 50, 4)))\n",
    "x2_values = x1_values\n",
    "x3_values = x1_values\n",
    "x4_values = np.arange(0.1, 1.0, 0.05)\n",
    "x5_values = np.arange(3.0, 10, 0.5)\n",
    "x6_values = np.arange(0.0001, 0.06, 0.002)\n",
    "\n",
    "N_RUNS = 3\n",
    "\n",
    "raw = {\n",
    "    \"SS1\": {\"x\": x1_values, \"gains\": [],  \"depths\": []},\n",
    "    \"SS2\": {\"x\": x2_values, \"gains\": [],  \"depths\": []},\n",
    "    \"SS3\": {\"x\": x3_values, \"gains\": [],  \"depths\": []},\n",
    "    \"SS4\": {\"x\": x4_values, \"gains\": [],  \"depths\": []},\n",
    "    \"SS5\": {\"x\": x5_values, \"gains\": [],  \"depths\": []}\n",
    "    }\n",
    "\n",
    "strategies = {\n",
    "    \"SS1\": apply_ss1,\n",
    "    \"SS2\": apply_ss2,\n",
    "    \"SS3\": apply_ss3,\n",
    "    \"SS4\": apply_ss4,\n",
    "    \"SS5\": apply_ss5\n",
    "    }\n",
    "\n",
    "for run in range(N_RUNS):\n",
    "    print(f\"=== Run {run+1}/{N_RUNS} ===\")\n",
    "    for name, func in strategies.items():\n",
    "        x_vals = raw[name][\"x\"]\n",
    "        gains_run  = []\n",
    "        depths_run = []\n",
    "        for x in tqdm(x_vals, desc=name):\n",
    "            cg, dp = average_dcg_and_avr_depth(func, x=x, initial_ranking=initial_ranking_easy)\n",
    "            gains_run.append(cg)\n",
    "            depths_run.append(dp)\n",
    "        raw[name][\"gains\"].append(gains_run)\n",
    "        raw[name][\"depths\"].append(depths_run)\n",
    "\n",
    "results = {}\n",
    "for name in strategies:\n",
    "    arr_gains  = np.array(raw[name][\"gains\"])   # shape (N_RUNS, len(x))\n",
    "    arr_depths = np.array(raw[name][\"depths\"])\n",
    "    mean_gains  = arr_gains.mean(axis=0).tolist()\n",
    "    mean_depths = arr_depths.mean(axis=0).tolist()\n",
    "    results[name] = {\n",
    "        \"x\":   raw[name][\"x\"].tolist(),\n",
    "        \"gains\":  mean_gains,\n",
    "        \"depths\": mean_depths\n",
    "    }\n",
    "\n",
    "with open(\"results/avg_easy_full_stopping_strategies_results_final.json\", \"w\") as fp:\n",
    "    json.dump(results, fp, indent=4)\n",
    "\n"
   ]
  },
  {
   "cell_type": "code",
   "execution_count": 249,
   "id": "7e6b2886",
   "metadata": {},
   "outputs": [
    {
     "data": {
      "image/png": "[encoded data removed]",
      "text/plain": [
       "<Figure size 500x500 with 1 Axes>"
      ]
     },
     "metadata": {},
     "output_type": "display_data"
    }
   ],
   "source": [
    "plot(\"results/avg_easy_full_stopping_strategies_results_final.json\", title = \"Stopping Strategies on Istella22 using easy queries\")"
   ]
  },
  {
   "cell_type": "markdown",
   "id": "e156d89c",
   "metadata": {},
   "source": [
    "# C- User Interaction"
   ]
  },
  {
   "cell_type": "code",
   "execution_count": 250,
   "id": "fda6615d",
   "metadata": {},
   "outputs": [
    {
     "name": "stderr",
     "output_type": "stream",
     "text": [
      "C:\\Users\\yacin\\AppData\\Local\\Temp\\ipykernel_25156\\3799656806.py:1: DeprecationWarning: Call to deprecated class BatchRetrieve. (use pt.terrier.Retriever() instead) -- Deprecated since version 0.11.0.\n",
      "  model1 = pt.BatchRetrieve(index, wmodel=\"BM25\", num_results=1000, metadata=['docno', 'text'])\n",
      "C:\\Users\\yacin\\AppData\\Local\\Temp\\ipykernel_25156\\3799656806.py:2: DeprecationWarning: Call to deprecated class BatchRetrieve. (use pt.terrier.Retriever() instead) -- Deprecated since version 0.11.0.\n",
      "  model2 = pt.BatchRetrieve(index, wmodel=\"PL2\", num_results=1000, metadata=['docno', 'text'])\n",
      "C:\\Users\\yacin\\AppData\\Local\\Temp\\ipykernel_25156\\3799656806.py:3: DeprecationWarning: Call to deprecated class BatchRetrieve. (use pt.terrier.Retriever() instead) -- Deprecated since version 0.11.0.\n",
      "  model3 = pt.BatchRetrieve(index, wmodel=\"TF_IDF\", num_results=1000, metadata=['docno', 'text'])\n",
      "C:\\Users\\yacin\\AppData\\Local\\Temp\\ipykernel_25156\\3799656806.py:4: DeprecationWarning: Call to deprecated class BatchRetrieve. (use pt.terrier.Retriever() instead) -- Deprecated since version 0.11.0.\n",
      "  model4 = pt.BatchRetrieve(index, wmodel=\"DFR_BM25\", num_results=1000, metadata=['docno', 'text'])\n"
     ]
    }
   ],
   "source": [
    "model1 = pt.BatchRetrieve(index, wmodel=\"BM25\", num_results=1000, metadata=['docno', 'text'])\n",
    "model2 = pt.BatchRetrieve(index, wmodel=\"PL2\", num_results=1000, metadata=['docno', 'text'])\n",
    "model3 = pt.BatchRetrieve(index, wmodel=\"TF_IDF\", num_results=1000, metadata=['docno', 'text'])\n",
    "model4 = pt.BatchRetrieve(index, wmodel=\"DFR_BM25\", num_results=1000, metadata=['docno', 'text'])\n",
    "\n",
    "results = pt.Experiment(\n",
    "\t[model1, model2, model3, model4],\n",
    "\tqrels=qrels_df,\n",
    "\teval_metrics=[\"P\", \"recall\"],\n",
    " \ttopics=hard_queries_df,\n",
    "\tperquery=False\n",
    ")"
   ]
  },
  {
   "cell_type": "code",
   "execution_count": 251,
   "id": "1ca17917",
   "metadata": {},
   "outputs": [
    {
     "data": {
      "text/html": [
       "<div>\n",
       "<style scoped>\n",
       "    .dataframe tbody tr th:only-of-type {\n",
       "        vertical-align: middle;\n",
       "    }\n",
       "\n",
       "    .dataframe tbody tr th {\n",
       "        vertical-align: top;\n",
       "    }\n",
       "\n",
       "    .dataframe thead th {\n",
       "        text-align: right;\n",
       "    }\n",
       "</style>\n",
       "<table border=\"1\" class=\"dataframe\">\n",
       "  <thead>\n",
       "    <tr style=\"text-align: right;\">\n",
       "      <th></th>\n",
       "      <th>name</th>\n",
       "      <th>P@5</th>\n",
       "      <th>P@10</th>\n",
       "      <th>P@15</th>\n",
       "      <th>P@20</th>\n",
       "      <th>P@30</th>\n",
       "      <th>P@100</th>\n",
       "      <th>P@200</th>\n",
       "      <th>P@500</th>\n",
       "      <th>P@1000</th>\n",
       "      <th>R@5</th>\n",
       "      <th>R@10</th>\n",
       "      <th>R@15</th>\n",
       "      <th>R@20</th>\n",
       "      <th>R@30</th>\n",
       "      <th>R@100</th>\n",
       "      <th>R@200</th>\n",
       "      <th>R@500</th>\n",
       "      <th>R@1000</th>\n",
       "    </tr>\n",
       "  </thead>\n",
       "  <tbody>\n",
       "    <tr>\n",
       "      <th>0</th>\n",
       "      <td>TerrierRetr(BM25)</td>\n",
       "      <td>0.340</td>\n",
       "      <td>0.202</td>\n",
       "      <td>0.140000</td>\n",
       "      <td>0.106</td>\n",
       "      <td>0.072000</td>\n",
       "      <td>0.022</td>\n",
       "      <td>0.011</td>\n",
       "      <td>0.0044</td>\n",
       "      <td>0.0022</td>\n",
       "      <td>0.789286</td>\n",
       "      <td>0.908810</td>\n",
       "      <td>0.943810</td>\n",
       "      <td>0.947143</td>\n",
       "      <td>0.970476</td>\n",
       "      <td>0.977143</td>\n",
       "      <td>0.977143</td>\n",
       "      <td>0.977143</td>\n",
       "      <td>0.977143</td>\n",
       "    </tr>\n",
       "    <tr>\n",
       "      <th>1</th>\n",
       "      <td>TerrierRetr(PL2)</td>\n",
       "      <td>0.344</td>\n",
       "      <td>0.198</td>\n",
       "      <td>0.140000</td>\n",
       "      <td>0.105</td>\n",
       "      <td>0.072000</td>\n",
       "      <td>0.022</td>\n",
       "      <td>0.011</td>\n",
       "      <td>0.0044</td>\n",
       "      <td>0.0022</td>\n",
       "      <td>0.797619</td>\n",
       "      <td>0.887143</td>\n",
       "      <td>0.942143</td>\n",
       "      <td>0.942143</td>\n",
       "      <td>0.968810</td>\n",
       "      <td>0.977143</td>\n",
       "      <td>0.977143</td>\n",
       "      <td>0.977143</td>\n",
       "      <td>0.977143</td>\n",
       "    </tr>\n",
       "    <tr>\n",
       "      <th>2</th>\n",
       "      <td>TerrierRetr(TF_IDF)</td>\n",
       "      <td>0.344</td>\n",
       "      <td>0.204</td>\n",
       "      <td>0.141333</td>\n",
       "      <td>0.108</td>\n",
       "      <td>0.073333</td>\n",
       "      <td>0.022</td>\n",
       "      <td>0.011</td>\n",
       "      <td>0.0044</td>\n",
       "      <td>0.0022</td>\n",
       "      <td>0.792619</td>\n",
       "      <td>0.912143</td>\n",
       "      <td>0.947143</td>\n",
       "      <td>0.953810</td>\n",
       "      <td>0.977143</td>\n",
       "      <td>0.977143</td>\n",
       "      <td>0.977143</td>\n",
       "      <td>0.977143</td>\n",
       "      <td>0.977143</td>\n",
       "    </tr>\n",
       "    <tr>\n",
       "      <th>3</th>\n",
       "      <td>TerrierRetr(DFR_BM25)</td>\n",
       "      <td>0.344</td>\n",
       "      <td>0.200</td>\n",
       "      <td>0.140000</td>\n",
       "      <td>0.106</td>\n",
       "      <td>0.072000</td>\n",
       "      <td>0.022</td>\n",
       "      <td>0.011</td>\n",
       "      <td>0.0044</td>\n",
       "      <td>0.0022</td>\n",
       "      <td>0.809286</td>\n",
       "      <td>0.897143</td>\n",
       "      <td>0.943810</td>\n",
       "      <td>0.947143</td>\n",
       "      <td>0.970476</td>\n",
       "      <td>0.977143</td>\n",
       "      <td>0.977143</td>\n",
       "      <td>0.977143</td>\n",
       "      <td>0.977143</td>\n",
       "    </tr>\n",
       "  </tbody>\n",
       "</table>\n",
       "</div>"
      ],
      "text/plain": [
       "                    name    P@5   P@10      P@15   P@20      P@30  P@100  \\\n",
       "0      TerrierRetr(BM25)  0.340  0.202  0.140000  0.106  0.072000  0.022   \n",
       "1       TerrierRetr(PL2)  0.344  0.198  0.140000  0.105  0.072000  0.022   \n",
       "2    TerrierRetr(TF_IDF)  0.344  0.204  0.141333  0.108  0.073333  0.022   \n",
       "3  TerrierRetr(DFR_BM25)  0.344  0.200  0.140000  0.106  0.072000  0.022   \n",
       "\n",
       "   P@200   P@500  P@1000       R@5      R@10      R@15      R@20      R@30  \\\n",
       "0  0.011  0.0044  0.0022  0.789286  0.908810  0.943810  0.947143  0.970476   \n",
       "1  0.011  0.0044  0.0022  0.797619  0.887143  0.942143  0.942143  0.968810   \n",
       "2  0.011  0.0044  0.0022  0.792619  0.912143  0.947143  0.953810  0.977143   \n",
       "3  0.011  0.0044  0.0022  0.809286  0.897143  0.943810  0.947143  0.970476   \n",
       "\n",
       "      R@100     R@200     R@500    R@1000  \n",
       "0  0.977143  0.977143  0.977143  0.977143  \n",
       "1  0.977143  0.977143  0.977143  0.977143  \n",
       "2  0.977143  0.977143  0.977143  0.977143  \n",
       "3  0.977143  0.977143  0.977143  0.977143  "
      ]
     },
     "execution_count": 251,
     "metadata": {},
     "output_type": "execute_result"
    }
   ],
   "source": [
    "results"
   ]
  },
  {
   "cell_type": "code",
   "execution_count": 252,
   "id": "8a0ae6ee",
   "metadata": {},
   "outputs": [
    {
     "data": {
      "image/png": "[encoded data removed]",
      "text/plain": [
       "<Figure size 1000x600 with 1 Axes>"
      ]
     },
     "metadata": {},
     "output_type": "display_data"
    }
   ],
   "source": [
    "import matplotlib.pyplot as plt\n",
    "names = results[\"name\"]\n",
    "p_cols = [col for col in results.columns if col.startswith(\"P@\")]\n",
    "r_cols = [col for col in results.columns if col.startswith(\"R@\")]\n",
    "ks = [int(col.split(\"@\")[1]) for col in p_cols]  # extraire les k numériques pour l'axe des x\n",
    "plt.figure(figsize=(10, 6))\n",
    "for i in range(len(results)):\n",
    "    label = results.loc[i, \"name\"]\n",
    "    values = results.loc[i, p_cols].values\n",
    "    values_r = results.loc[i, r_cols].values\n",
    "    plt.plot(ks, values/values_r, marker='o', label=label)\n",
    "plt.xlabel(\"Cutoff k\", fontsize=12)\n",
    "plt.ylabel(\"Précision à k (P@k)\", fontsize=12)\n",
    "plt.title(\"Comparaison de la précision à différents cutoffs\", fontsize=14)\n",
    "plt.legend()\n",
    "plt.grid(True)\n",
    "plt.tight_layout()\n",
    "plt.show()\n"
   ]
  },
  {
   "cell_type": "code",
   "execution_count": null,
   "id": "b7562b80",
   "metadata": {},
   "outputs": [],
   "source": []
  }
 ],
 "metadata": {
  "kernelspec": {
   "display_name": "base",
   "language": "python",
   "name": "python3"
  },
  "language_info": {
   "codemirror_mode": {
    "name": "ipython",
    "version": 3
   },
   "file_extension": ".py",
   "mimetype": "text/x-python",
   "name": "python",
   "nbconvert_exporter": "python",
   "pygments_lexer": "ipython3",
   "version": "3.11.5"
  }
 },
 "nbformat": 4,
 "nbformat_minor": 5
}
