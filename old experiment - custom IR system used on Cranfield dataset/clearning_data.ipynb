{
 "cells": [
  {
   "cell_type": "code",
   "execution_count": 1,
   "id": "d2fe5681",
   "metadata": {},
   "outputs": [
    {
     "name": "stderr",
     "output_type": "stream",
     "text": [
      "C:\\Users\\yacin\\AppData\\Local\\Temp\\ipykernel_45656\\738761206.py:5: DeprecationWarning: Call to deprecated function (or staticmethod) started. (use pt.java.started() instead) -- Deprecated since version 0.11.0.\n",
      "  if not pt.started():\n",
      "Java started and loaded: pyterrier.java, pyterrier.terrier.java [version=5.11 (build: craig.macdonald 2025-01-13 21:29), helper_version=0.0.8]\n",
      "C:\\Users\\yacin\\AppData\\Local\\Temp\\ipykernel_45656\\738761206.py:6: DeprecationWarning: Call to deprecated method pt.init(). Deprecated since version 0.11.0.\n",
      "java is now started automatically with default settings. To force initialisation early, run:\n",
      "pt.java.init() # optional, forces java initialisation\n",
      "  pt.init()\n"
     ]
    }
   ],
   "source": [
    "import ir_datasets\n",
    "import pandas as pd\n",
    "import pyterrier as pt\n",
    "\n",
    "if not pt.started():\n",
    "    pt.init()\n"
   ]
  },
  {
   "cell_type": "code",
   "execution_count": 2,
   "id": "738f90aa",
   "metadata": {},
   "outputs": [
    {
     "data": {
      "text/html": [
       "<div>\n",
       "<style scoped>\n",
       "    .dataframe tbody tr th:only-of-type {\n",
       "        vertical-align: middle;\n",
       "    }\n",
       "\n",
       "    .dataframe tbody tr th {\n",
       "        vertical-align: top;\n",
       "    }\n",
       "\n",
       "    .dataframe thead th {\n",
       "        text-align: right;\n",
       "    }\n",
       "</style>\n",
       "<table border=\"1\" class=\"dataframe\">\n",
       "  <thead>\n",
       "    <tr style=\"text-align: right;\">\n",
       "      <th></th>\n",
       "      <th>docno</th>\n",
       "      <th>text</th>\n",
       "    </tr>\n",
       "  </thead>\n",
       "  <tbody>\n",
       "    <tr>\n",
       "      <th>0</th>\n",
       "      <td>1</td>\n",
       "      <td>experimental investigation of the aerodynamics...</td>\n",
       "    </tr>\n",
       "    <tr>\n",
       "      <th>1</th>\n",
       "      <td>2</td>\n",
       "      <td>simple shear flow past a flat plate in an inco...</td>\n",
       "    </tr>\n",
       "    <tr>\n",
       "      <th>2</th>\n",
       "      <td>3</td>\n",
       "      <td>the boundary layer in simple shear flow past a...</td>\n",
       "    </tr>\n",
       "    <tr>\n",
       "      <th>3</th>\n",
       "      <td>4</td>\n",
       "      <td>approximate solutions of the incompressible la...</td>\n",
       "    </tr>\n",
       "    <tr>\n",
       "      <th>4</th>\n",
       "      <td>5</td>\n",
       "      <td>one-dimensional transient heat conduction into...</td>\n",
       "    </tr>\n",
       "  </tbody>\n",
       "</table>\n",
       "</div>"
      ],
      "text/plain": [
       "  docno                                               text\n",
       "0     1  experimental investigation of the aerodynamics...\n",
       "1     2  simple shear flow past a flat plate in an inco...\n",
       "2     3  the boundary layer in simple shear flow past a...\n",
       "3     4  approximate solutions of the incompressible la...\n",
       "4     5  one-dimensional transient heat conduction into..."
      ]
     },
     "metadata": {},
     "output_type": "display_data"
    }
   ],
   "source": [
    "# corpus\n",
    "dataset = ir_datasets.load(\"cranfield\")\n",
    "\n",
    "docs = [{\n",
    "    \"docno\": doc.doc_id,\n",
    "    \"text\": doc.text\n",
    "} for doc in dataset.docs]\n",
    "\n",
    "df_docs = pd.DataFrame(docs)\n",
    "# Nettoyage robuste\n",
    "import re\n",
    "\n",
    "\n",
    "df_docs = df_docs.dropna(subset=[\"text\", \"docno\"])\n",
    "df_docs = df_docs[df_docs[\"text\"].str.strip() != \"\"]\n",
    "df_docs = df_docs[df_docs[\"docno\"].str.strip() != \"\"]\n",
    "df_docs = df_docs[df_docs[\"text\"].apply(lambda x: bool(re.search(r\"\\w{3,}\", x)))]\n",
    "df_docs = df_docs.drop_duplicates(subset=\"docno\")\n",
    "display(df_docs.head())\n",
    "df_docs.to_csv(\"cranfield_docs.csv\", index=False)"
   ]
  },
  {
   "cell_type": "code",
   "execution_count": 3,
   "id": "f3a85ff7",
   "metadata": {},
   "outputs": [
    {
     "data": {
      "text/html": [
       "<div>\n",
       "<style scoped>\n",
       "    .dataframe tbody tr th:only-of-type {\n",
       "        vertical-align: middle;\n",
       "    }\n",
       "\n",
       "    .dataframe tbody tr th {\n",
       "        vertical-align: top;\n",
       "    }\n",
       "\n",
       "    .dataframe thead th {\n",
       "        text-align: right;\n",
       "    }\n",
       "</style>\n",
       "<table border=\"1\" class=\"dataframe\">\n",
       "  <thead>\n",
       "    <tr style=\"text-align: right;\">\n",
       "      <th></th>\n",
       "      <th>qid</th>\n",
       "      <th>query</th>\n",
       "    </tr>\n",
       "  </thead>\n",
       "  <tbody>\n",
       "    <tr>\n",
       "      <th>0</th>\n",
       "      <td>1</td>\n",
       "      <td>what similarity laws must be obeyed when const...</td>\n",
       "    </tr>\n",
       "    <tr>\n",
       "      <th>1</th>\n",
       "      <td>2</td>\n",
       "      <td>what are the structural and aeroelastic proble...</td>\n",
       "    </tr>\n",
       "    <tr>\n",
       "      <th>2</th>\n",
       "      <td>3</td>\n",
       "      <td>what problems of heat conduction in composite ...</td>\n",
       "    </tr>\n",
       "    <tr>\n",
       "      <th>3</th>\n",
       "      <td>4</td>\n",
       "      <td>can a criterion be developed to show empirical...</td>\n",
       "    </tr>\n",
       "    <tr>\n",
       "      <th>4</th>\n",
       "      <td>5</td>\n",
       "      <td>what chemical kinetic system is applicable to ...</td>\n",
       "    </tr>\n",
       "  </tbody>\n",
       "</table>\n",
       "</div>"
      ],
      "text/plain": [
       "  qid                                              query\n",
       "0   1  what similarity laws must be obeyed when const...\n",
       "1   2  what are the structural and aeroelastic proble...\n",
       "2   3  what problems of heat conduction in composite ...\n",
       "3   4  can a criterion be developed to show empirical...\n",
       "4   5  what chemical kinetic system is applicable to ..."
      ]
     },
     "metadata": {},
     "output_type": "display_data"
    }
   ],
   "source": [
    "# queries\n",
    "topics = [{\n",
    "    \"qid\": topic.query_id,\n",
    "    \"query\": topic.text\n",
    "} for topic in dataset.queries]\n",
    "\n",
    "df_topics = pd.DataFrame(topics)\n",
    "import re\n",
    "def clean_query(query):\n",
    "    return re.sub(r'/', ' ', query)\n",
    "\n",
    "df_topics['query'] = df_topics['query'].apply(clean_query)\n",
    "df_topics = df_topics.dropna(subset=[\"query\", \"qid\"])\n",
    "df_topics = df_topics[df_topics[\"query\"].str.strip() != \"\"]\n",
    "df_topics = df_topics[df_topics[\"qid\"].str.strip() != \"\"]\n",
    "\n",
    "display(df_topics.head())\n",
    "df_topics.to_csv(\"cranfield_topics.csv\", index=False)"
   ]
  },
  {
   "cell_type": "code",
   "execution_count": 4,
   "id": "19aa3180",
   "metadata": {},
   "outputs": [
    {
     "data": {
      "text/html": [
       "<div>\n",
       "<style scoped>\n",
       "    .dataframe tbody tr th:only-of-type {\n",
       "        vertical-align: middle;\n",
       "    }\n",
       "\n",
       "    .dataframe tbody tr th {\n",
       "        vertical-align: top;\n",
       "    }\n",
       "\n",
       "    .dataframe thead th {\n",
       "        text-align: right;\n",
       "    }\n",
       "</style>\n",
       "<table border=\"1\" class=\"dataframe\">\n",
       "  <thead>\n",
       "    <tr style=\"text-align: right;\">\n",
       "      <th></th>\n",
       "      <th>qid</th>\n",
       "      <th>docno</th>\n",
       "      <th>label</th>\n",
       "    </tr>\n",
       "  </thead>\n",
       "  <tbody>\n",
       "    <tr>\n",
       "      <th>0</th>\n",
       "      <td>1</td>\n",
       "      <td>184</td>\n",
       "      <td>2</td>\n",
       "    </tr>\n",
       "    <tr>\n",
       "      <th>1</th>\n",
       "      <td>1</td>\n",
       "      <td>29</td>\n",
       "      <td>2</td>\n",
       "    </tr>\n",
       "    <tr>\n",
       "      <th>2</th>\n",
       "      <td>1</td>\n",
       "      <td>31</td>\n",
       "      <td>2</td>\n",
       "    </tr>\n",
       "    <tr>\n",
       "      <th>3</th>\n",
       "      <td>1</td>\n",
       "      <td>12</td>\n",
       "      <td>3</td>\n",
       "    </tr>\n",
       "    <tr>\n",
       "      <th>4</th>\n",
       "      <td>1</td>\n",
       "      <td>51</td>\n",
       "      <td>3</td>\n",
       "    </tr>\n",
       "  </tbody>\n",
       "</table>\n",
       "</div>"
      ],
      "text/plain": [
       "  qid docno  label\n",
       "0   1   184      2\n",
       "1   1    29      2\n",
       "2   1    31      2\n",
       "3   1    12      3\n",
       "4   1    51      3"
      ]
     },
     "metadata": {},
     "output_type": "display_data"
    }
   ],
   "source": [
    "# qrels\n",
    "qrels = [{\n",
    "    \"qid\": qrel.query_id,\n",
    "    \"docno\": qrel.doc_id,\n",
    "    \"label\": qrel.relevance\n",
    "} for qrel in dataset.qrels]\n",
    "\n",
    "df_qrels = pd.DataFrame(qrels)\n",
    "display(df_qrels.head())\n",
    "df_qrels.to_csv(\"cranfield_qrels.csv\", index=False)"
   ]
  },
  {
   "cell_type": "code",
   "execution_count": 6,
   "id": "4987a554",
   "metadata": {},
   "outputs": [
    {
     "name": "stderr",
     "output_type": "stream",
     "text": [
      "c:\\Users\\yacin\\Desktop\\M1\\RI\\M1-S2-RI\\.conda\\Lib\\site-packages\\pyterrier\\terrier\\index.py:639: UserWarning: Indexing meta key text length requested 512 but exceeded in first document (actual length 910). Increase the length in the meta dict for the indexer, e.g., pt.IterDictIndexer(..., meta={'text': 910}).\n",
      "  warn(msg)\n"
     ]
    }
   ],
   "source": [
    "import os\n",
    "\n",
    "index_path = os.path.abspath(\"my_index\")\n",
    "index_path = os.path.join(os.getcwd(), index_path)\n",
    "#delete the direction if path exists\n",
    "os.makedirs(index_path, exist_ok=True)\n",
    "\n",
    "indexer = pt.IterDictIndexer(index_path, meta=[\"docno\", \"text\"], overwrite=True)\n",
    "index_ref = indexer.index(\n",
    "    ({\"docno\": str(row[\"docno\"]), \"text\": row[\"text\"]} for _, row in df_docs.iterrows())\n",
    ")"
   ]
  },
  {
   "cell_type": "code",
   "execution_count": null,
   "id": "7fc3002c",
   "metadata": {},
   "outputs": [
    {
     "ename": "AttributeError",
     "evalue": "'TfidfVectorizer' object has no attribute 'save'",
     "output_type": "error",
     "traceback": [
      "\u001b[31m---------------------------------------------------------------------------\u001b[39m",
      "\u001b[31mAttributeError\u001b[39m                            Traceback (most recent call last)",
      "\u001b[36mCell\u001b[39m\u001b[36m \u001b[39m\u001b[32mIn[5]\u001b[39m\u001b[32m, line 40\u001b[39m\n\u001b[32m     37\u001b[39m         \u001b[38;5;28;01mreturn\u001b[39;00m pd.DataFrame(results)\n\u001b[32m     39\u001b[39m ir_system = CustomIR()\n\u001b[32m---> \u001b[39m\u001b[32m40\u001b[39m \u001b[43mir_system\u001b[49m\u001b[43m.\u001b[49m\u001b[43mindex\u001b[49m\u001b[43m(\u001b[49m\u001b[43mdf_docs\u001b[49m\u001b[43m)\u001b[49m\n\u001b[32m     41\u001b[39m results = ir_system.retrieve(df_topics, top_k=\u001b[32m2\u001b[39m)\n\u001b[32m     42\u001b[39m display(results)\n",
      "\u001b[36mCell\u001b[39m\u001b[36m \u001b[39m\u001b[32mIn[5]\u001b[39m\u001b[32m, line 17\u001b[39m, in \u001b[36mCustomIR.index\u001b[39m\u001b[34m(self, df_docs)\u001b[39m\n\u001b[32m     15\u001b[39m \u001b[38;5;28mself\u001b[39m.doc_vectors = \u001b[38;5;28mself\u001b[39m.vectorizer.fit_transform(\u001b[38;5;28mself\u001b[39m.docs)\n\u001b[32m     16\u001b[39m \u001b[38;5;66;03m#save the vectors into a file\u001b[39;00m\n\u001b[32m---> \u001b[39m\u001b[32m17\u001b[39m \u001b[38;5;28;43mself\u001b[39;49m\u001b[43m.\u001b[49m\u001b[43mvectorizer\u001b[49m\u001b[43m.\u001b[49m\u001b[43msave\u001b[49m(\u001b[33m\"\u001b[39m\u001b[33mtfidf_vectorizer.pkl\u001b[39m\u001b[33m\"\u001b[39m)\n",
      "\u001b[31mAttributeError\u001b[39m: 'TfidfVectorizer' object has no attribute 'save'"
     ]
    },
    {
     "ename": "",
     "evalue": "",
     "output_type": "error",
     "traceback": [
      "\u001b[1;31mThe Kernel crashed while executing code in the current cell or a previous cell. \n",
      "\u001b[1;31mPlease review the code in the cell(s) to identify a possible cause of the failure. \n",
      "\u001b[1;31mClick <a href='https://aka.ms/vscodeJupyterKernelCrash'>here</a> for more info. \n",
      "\u001b[1;31mView Jupyter <a href='command:jupyter.viewOutput'>log</a> for further details."
     ]
    }
   ],
   "source": []
  },
  {
   "cell_type": "code",
   "execution_count": null,
   "id": "ce03b7a0",
   "metadata": {},
   "outputs": [],
   "source": []
  }
 ],
 "metadata": {
  "kernelspec": {
   "display_name": "Python 3",
   "language": "python",
   "name": "python3"
  },
  "language_info": {
   "codemirror_mode": {
    "name": "ipython",
    "version": 3
   },
   "file_extension": ".py",
   "mimetype": "text/x-python",
   "name": "python",
   "nbconvert_exporter": "python",
   "pygments_lexer": "ipython3",
   "version": "3.11.11"
  }
 },
 "nbformat": 4,
 "nbformat_minor": 5
}
